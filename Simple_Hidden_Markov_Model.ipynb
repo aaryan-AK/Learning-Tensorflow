{
  "nbformat": 4,
  "nbformat_minor": 0,
  "metadata": {
    "colab": {
      "provenance": []
    },
    "kernelspec": {
      "name": "python3",
      "display_name": "Python 3"
    },
    "language_info": {
      "name": "python"
    }
  },
  "cells": [
    {
      "cell_type": "markdown",
      "source": [
        "HMMs are a statistical model in which the system being modeled is assumed to be a Markov process with unobservable states. HMM works with a set of prbabilities to predict future events of states."
      ],
      "metadata": {
        "id": "r8kdIhmdy2At"
      }
    },
    {
      "cell_type": "markdown",
      "source": [
        "Here I am creating a HMM that can predict the weather using the initial probabilities, transition probabilities, and the distribution of the states."
      ],
      "metadata": {
        "id": "3-PfsY84zqJg"
      }
    },
    {
      "cell_type": "code",
      "source": [
        "#Import the required libraries\n",
        "import tensorflow_probability as tfp\n",
        "import tensorflow as tf\n",
        "import numpy as np"
      ],
      "metadata": {
        "id": "20a8zgTIz7iq"
      },
      "execution_count": 2,
      "outputs": []
    },
    {
      "cell_type": "markdown",
      "source": [
        "Here is the information regarding the states:\n",
        "\n",
        "\n",
        "1. Cold days are encoded by a 0 and hot days are encoded by a 1.\n",
        "\n",
        "2. The first day in our sequence has an 80% chance of being cold.\n",
        "\n",
        "3. A cold day has a 30% chance of being followed by a hot day.\n",
        "\n",
        "4. A hot day has a 20% chance of being followed by a cold day.\n",
        "\n",
        "5. On each day the temperature is normally distributed with mean and standard deviation 0 and 5 on a cold day and mean and standard deviation 15 and 10 on a hot day."
      ],
      "metadata": {
        "id": "lLwduOqj0CX8"
      }
    },
    {
      "cell_type": "code",
      "source": [
        "from tensorflow_probability import  distributions as tfd"
      ],
      "metadata": {
        "id": "nb8UHBtJ0ZpC"
      },
      "execution_count": 3,
      "outputs": []
    },
    {
      "cell_type": "code",
      "source": [
        "# probability representation - [Cold Day, Hot Day]\n",
        "\n",
        "initial_distribution = tfd.Categorical(probs = [0.8,0.2])  # probability of first day being [cold, hot]\n",
        "\n",
        "transition_distribution = tfd.Categorical(probs =[ [0.7,0.3] , [0.2,0.8] ])   # for each transitioning probability to [cold,hot]\n",
        "\n",
        "observation_distribution = tfd.Normal(loc= [0. ,15. ], scale = [5. , 10. ])  # loc is the mean for respective day and scale is the SD for respective day"
      ],
      "metadata": {
        "id": "zTpXbLhE0mDQ"
      },
      "execution_count": 5,
      "outputs": []
    },
    {
      "cell_type": "code",
      "source": [
        "# Creating the HMM\n",
        "\n",
        "model = tfd.HiddenMarkovModel(\n",
        "    initial_distribution=initial_distribution,\n",
        "    transition_distribution=transition_distribution,\n",
        "    observation_distribution=observation_distribution,\n",
        "    num_steps=7)  # num_steps is how much further we want to predict"
      ],
      "metadata": {
        "id": "IMJyJrVV12iD"
      },
      "execution_count": 6,
      "outputs": []
    },
    {
      "cell_type": "code",
      "source": [
        "mean = model.mean() #This calculates the probablity so that we can run our probability distribution model\n",
        "\n",
        "with tf.compat.v1.Session() as sess:\n",
        "  print(mean.numpy())"
      ],
      "metadata": {
        "colab": {
          "base_uri": "https://localhost:8080/"
        },
        "id": "eSnY0seg2Mvx",
        "outputId": "6ebe0e93-31b4-47ff-b78c-26d827f176b5"
      },
      "execution_count": 8,
      "outputs": [
        {
          "output_type": "stream",
          "name": "stdout",
          "text": [
            "[3.        5.9999995 7.4999995 8.25      8.625001  8.812501  8.90625  ]\n"
          ]
        }
      ]
    },
    {
      "cell_type": "markdown",
      "source": [
        "**Remember that the the output of HMM will always be the same if the distributions of the states remains unchanged. Furthermore, the predictions become less accurate as the number of steps increase.**"
      ],
      "metadata": {
        "id": "XXH452wg2dlt"
      }
    }
  ]
}