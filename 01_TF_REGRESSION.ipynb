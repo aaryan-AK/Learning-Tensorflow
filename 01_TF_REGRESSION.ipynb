{
  "nbformat": 4,
  "nbformat_minor": 0,
  "metadata": {
    "colab": {
      "provenance": []
    },
    "kernelspec": {
      "name": "python3",
      "display_name": "Python 3"
    },
    "language_info": {
      "name": "python"
    }
  },
  "cells": [
    {
      "cell_type": "markdown",
      "source": [
        "#NEURAL NETWORK REGRESSION"
      ],
      "metadata": {
        "id": "bZ5JWX4npCXw"
      }
    },
    {
      "cell_type": "markdown",
      "source": [
        "Regression is the problem of predicting a number of some sort."
      ],
      "metadata": {
        "id": "YWBGI_rtDLXu"
      }
    },
    {
      "cell_type": "markdown",
      "source": [
        "In this notebook:\n",
        "\n",
        "* Architecture of a regression model\n",
        "* Input shapes and output shapes\n",
        "  * X: features/data (inputs)\n",
        "  * y: labels (outputs)\n",
        "* Creating custom data to view and fit\n",
        "* Steps in modelling\n",
        "* Creating a model\n",
        "* Compiling a model\n",
        "  * Defining a loss function\n",
        "  * Setting up an optimizer\n",
        "  * Creating evaluation metrics\n",
        "* Fitting a model (getting it to find patterns in our data)\n",
        "* Evaluating a model\n",
        "  * Visualizng the model (\"visualize, visualize, visualize\")\n",
        "  * Looking at training curves\n",
        "  * Compare predictions to ground truth (using our evaluation metrics)\n",
        "* Saving a model (so we can use it later)\n",
        "* Loading a model"
      ],
      "metadata": {
        "id": "Eg2yHaX0DU-2"
      }
    },
    {
      "cell_type": "code",
      "source": [
        "# Import TensorFlow\n",
        "import tensorflow as tf\n",
        "import tensorflow_probability as tfp\n",
        "\n",
        "print(tf.__version__)"
      ],
      "metadata": {
        "colab": {
          "base_uri": "https://localhost:8080/"
        },
        "id": "NEsKvTl8GosV",
        "outputId": "e9df78d7-5050-4294-e44c-255393b6f355"
      },
      "execution_count": null,
      "outputs": [
        {
          "output_type": "stream",
          "name": "stdout",
          "text": [
            "2.12.0\n"
          ]
        }
      ]
    },
    {
      "cell_type": "markdown",
      "source": [
        "###Creating data to fit and view"
      ],
      "metadata": {
        "id": "Rczovd3LG7uD"
      }
    },
    {
      "cell_type": "code",
      "source": [
        "import matplotlib.pyplot as plt\n",
        "import numpy as np\n",
        "\n",
        "# Create features\n",
        "X = np.array([-7.0,-4.0,-1.0,2.0,5.0,8.0,11.0,14.0])\n",
        "\n",
        "# Create labels\n",
        "\n",
        "y = np.array([3.0,6.0,9.0,12.0,15.0,18.0,21.0,24.0])\n",
        "\n",
        "# Visualize it\n",
        "plt.scatter(X,y )"
      ],
      "metadata": {
        "colab": {
          "base_uri": "https://localhost:8080/",
          "height": 453
        },
        "id": "9bXTxJGJHVt2",
        "outputId": "36e15584-8c0a-4dab-ccfc-65947dbcd029"
      },
      "execution_count": null,
      "outputs": [
        {
          "output_type": "execute_result",
          "data": {
            "text/plain": [
              "<matplotlib.collections.PathCollection at 0x7ff1cd99bb80>"
            ]
          },
          "metadata": {},
          "execution_count": 2
        },
        {
          "output_type": "display_data",
          "data": {
            "text/plain": [
              "<Figure size 640x480 with 1 Axes>"
            ],
            "image/png": "[encoded data removed]"
          },
          "metadata": {}
        }
      ]
    },
    {
      "cell_type": "code",
      "source": [
        "y == X+10  # the relation we want to learn"
      ],
      "metadata": {
        "colab": {
          "base_uri": "https://localhost:8080/"
        },
        "id": "fVihOPK5H3ea",
        "outputId": "14d78a11-158a-449f-cfcb-af891fec863c"
      },
      "execution_count": null,
      "outputs": [
        {
          "output_type": "execute_result",
          "data": {
            "text/plain": [
              "array([ True,  True,  True,  True,  True,  True,  True,  True])"
            ]
          },
          "metadata": {},
          "execution_count": 3
        }
      ]
    },
    {
      "cell_type": "markdown",
      "source": [
        "###Input and Output Shapes"
      ],
      "metadata": {
        "id": "7IuFD17fH7cp"
      }
    },
    {
      "cell_type": "code",
      "source": [
        "# Create a demo tensor for the problem\n",
        "\n",
        "input_shape = X[0].shape\n",
        "output_shape = y[0].shape\n",
        "input_shape, output_shape"
      ],
      "metadata": {
        "colab": {
          "base_uri": "https://localhost:8080/"
        },
        "id": "PkDT33NxIHXV",
        "outputId": "5aa31a7f-f8c5-4d5e-f41e-c2a029af7b45"
      },
      "execution_count": null,
      "outputs": [
        {
          "output_type": "execute_result",
          "data": {
            "text/plain": [
              "((), ())"
            ]
          },
          "metadata": {},
          "execution_count": 4
        }
      ]
    },
    {
      "cell_type": "code",
      "source": [
        "# Turn our NumPy arrays to tensors\n",
        "\n",
        "X = tf.cast(tf.constant(X),dtype = tf.float32)\n",
        "y = tf.cast(tf.constant(y), dtype = tf.float32)\n",
        "\n",
        "X, y"
      ],
      "metadata": {
        "colab": {
          "base_uri": "https://localhost:8080/"
        },
        "id": "vKLqbGABIlBD",
        "outputId": "fc03a0f7-c764-413e-a281-7bf1809792f4"
      },
      "execution_count": null,
      "outputs": [
        {
          "output_type": "execute_result",
          "data": {
            "text/plain": [
              "(<tf.Tensor: shape=(8,), dtype=float32, numpy=array([-7., -4., -1.,  2.,  5.,  8., 11., 14.], dtype=float32)>,\n",
              " <tf.Tensor: shape=(8,), dtype=float32, numpy=array([ 3.,  6.,  9., 12., 15., 18., 21., 24.], dtype=float32)>)"
            ]
          },
          "metadata": {},
          "execution_count": 5
        }
      ]
    },
    {
      "cell_type": "code",
      "source": [
        "input_shape = X[0].shape\n",
        "output_shape = y[0].shape\n",
        "input_shape, output_shape"
      ],
      "metadata": {
        "colab": {
          "base_uri": "https://localhost:8080/"
        },
        "id": "SRZRI7baJsUc",
        "outputId": "13155e51-67db-4739-8688-f02d7f7e1f42"
      },
      "execution_count": null,
      "outputs": [
        {
          "output_type": "execute_result",
          "data": {
            "text/plain": [
              "(TensorShape([]), TensorShape([]))"
            ]
          },
          "metadata": {},
          "execution_count": 6
        }
      ]
    },
    {
      "cell_type": "markdown",
      "source": [
        "##Steps in Modelling with Tensorflow\n",
        "\n",
        "1. Creating a model - define the i/p and o/p layers, as well as hidden layers\n",
        "2. Compiling the model - define loss function, the optimizer, and evaluation metric\n",
        "3. Fit the model - let the model find patterns"
      ],
      "metadata": {
        "id": "Js8zcILMJwo8"
      }
    },
    {
      "cell_type": "code",
      "source": [
        "# Set random seed\n",
        "tf.random.set_seed(42)\n",
        "\n",
        "#1. Create a model using the Sequential API\n",
        "model = tf.keras.Sequential([\n",
        "    tf.keras.layers.Dense(1)\n",
        "])\n",
        "\n",
        "# another way\n",
        "# model = tf.keras.Sequential()\n",
        "# model.add.(tf.keras.Dense(1))\n",
        "\n",
        "# 2. Compile the model\n",
        "model.compile(loss = tf.keras.losses.mae,\n",
        "              optimizer = tf.keras.optimizers.SGD(),\n",
        "              metrics = [\"mae\"])\n",
        "\n",
        "# 3. Fit the model\n",
        "model.fit(tf.expand_dims(X, axis=-1), y, epochs = 5)"
      ],
      "metadata": {
        "colab": {
          "base_uri": "https://localhost:8080/"
        },
        "id": "9Ry0UXSWKyNH",
        "outputId": "bc6a2a52-f282-4786-e9b7-ced0cdefe6c3"
      },
      "execution_count": null,
      "outputs": [
        {
          "output_type": "stream",
          "name": "stdout",
          "text": [
            "Epoch 1/5\n",
            "1/1 [==============================] - 1s 1s/step - loss: 18.8635 - mae: 18.8635\n",
            "Epoch 2/5\n",
            "1/1 [==============================] - 0s 34ms/step - loss: 18.5823 - mae: 18.5823\n",
            "Epoch 3/5\n",
            "1/1 [==============================] - 0s 32ms/step - loss: 18.3010 - mae: 18.3010\n",
            "Epoch 4/5\n",
            "1/1 [==============================] - 0s 24ms/step - loss: 18.0198 - mae: 18.0198\n",
            "Epoch 5/5\n",
            "1/1 [==============================] - 0s 49ms/step - loss: 17.7385 - mae: 17.7385\n"
          ]
        },
        {
          "output_type": "execute_result",
          "data": {
            "text/plain": [
              "<keras.callbacks.History at 0x7ff1d6293df0>"
            ]
          },
          "metadata": {},
          "execution_count": 7
        }
      ]
    },
    {
      "cell_type": "code",
      "source": [
        "# making prediction\n",
        "\n",
        "model.predict([17.0])"
      ],
      "metadata": {
        "colab": {
          "base_uri": "https://localhost:8080/"
        },
        "id": "kEuGqIwAMyRn",
        "outputId": "c63bdaa6-a0c3-4e78-f7b2-6bf7137a0712"
      },
      "execution_count": null,
      "outputs": [
        {
          "output_type": "stream",
          "name": "stdout",
          "text": [
            "1/1 [==============================] - 0s 347ms/step\n"
          ]
        },
        {
          "output_type": "execute_result",
          "data": {
            "text/plain": [
              "array([[-15.29617]], dtype=float32)"
            ]
          },
          "metadata": {},
          "execution_count": 8
        }
      ]
    },
    {
      "cell_type": "markdown",
      "source": [
        "We are nowhere close to the ground truth.\n",
        "\n",
        "Let's try to improve the model."
      ],
      "metadata": {
        "id": "oFQMKPTyO6w6"
      }
    },
    {
      "cell_type": "markdown",
      "source": [
        "##Improving the model\n",
        "\n",
        "1. Creating a model - here you might want to add more layers, increase the number of hidden units (also called neurons) within each layer, change the activation functions of each layer.\n",
        "2. Compiling a model - you might want to choose optimization function or perhaps change the learning rate of the optimization function.\n",
        "3. Fitting a model - perhaps you could fit a model for more epochs (leave it training for longer) or on more data (give the model more examples to learn from)."
      ],
      "metadata": {
        "id": "B_86B9mrPBma"
      }
    },
    {
      "cell_type": "code",
      "source": [
        "# let's try to increase the number of epochs\n",
        "\n",
        "\n",
        "# Set random seed\n",
        "tf.random.set_seed(42)\n",
        "\n",
        "#1. Create a model using the Sequential API\n",
        "model = tf.keras.Sequential([\n",
        "    tf.keras.layers.Dense(1)\n",
        "])\n",
        "\n",
        "# another way\n",
        "# model = tf.keras.Sequential()\n",
        "# model.add.(tf.keras.Dense(1))\n",
        "\n",
        "# 2. Compile the model\n",
        "model.compile(loss = tf.keras.losses.mae,\n",
        "              optimizer = tf.keras.optimizers.SGD(),\n",
        "              metrics = [\"mae\"])\n",
        "\n",
        "# 3. Fit the model\n",
        "model.fit(tf.expand_dims(X, axis=-1), y, epochs = 100)"
      ],
      "metadata": {
        "colab": {
          "base_uri": "https://localhost:8080/"
        },
        "id": "UqkgjY-IPeHC",
        "outputId": "602ba698-8379-4e26-cd2a-36bf10e2f7e5"
      },
      "execution_count": null,
      "outputs": [
        {
          "output_type": "stream",
          "name": "stdout",
          "text": [
            "Epoch 1/100\n",
            "1/1 [==============================] - 2s 2s/step - loss: 11.0799 - mae: 11.0799\n",
            "Epoch 2/100\n",
            "1/1 [==============================] - 0s 37ms/step - loss: 10.9474 - mae: 10.9474\n",
            "Epoch 3/100\n",
            "1/1 [==============================] - 0s 54ms/step - loss: 10.8149 - mae: 10.8149\n",
            "Epoch 4/100\n",
            "1/1 [==============================] - 0s 27ms/step - loss: 10.6824 - mae: 10.6824\n",
            "Epoch 5/100\n",
            "1/1 [==============================] - 0s 38ms/step - loss: 10.5499 - mae: 10.5499\n",
            "Epoch 6/100\n",
            "1/1 [==============================] - 0s 38ms/step - loss: 10.4174 - mae: 10.4174\n",
            "Epoch 7/100\n",
            "1/1 [==============================] - 0s 15ms/step - loss: 10.2849 - mae: 10.2849\n",
            "Epoch 8/100\n",
            "1/1 [==============================] - 0s 21ms/step - loss: 10.1524 - mae: 10.1524\n",
            "Epoch 9/100\n",
            "1/1 [==============================] - 0s 38ms/step - loss: 10.0199 - mae: 10.0199\n",
            "Epoch 10/100\n",
            "1/1 [==============================] - 0s 19ms/step - loss: 9.8874 - mae: 9.8874\n",
            "Epoch 11/100\n",
            "1/1 [==============================] - 0s 36ms/step - loss: 9.7549 - mae: 9.7549\n",
            "Epoch 12/100\n",
            "1/1 [==============================] - 0s 36ms/step - loss: 9.6224 - mae: 9.6224\n",
            "Epoch 13/100\n",
            "1/1 [==============================] - 0s 37ms/step - loss: 9.4899 - mae: 9.4899\n",
            "Epoch 14/100\n",
            "1/1 [==============================] - 0s 34ms/step - loss: 9.3574 - mae: 9.3574\n",
            "Epoch 15/100\n",
            "1/1 [==============================] - 0s 16ms/step - loss: 9.2249 - mae: 9.2249\n",
            "Epoch 16/100\n",
            "1/1 [==============================] - 0s 30ms/step - loss: 9.0924 - mae: 9.0924\n",
            "Epoch 17/100\n",
            "1/1 [==============================] - 0s 39ms/step - loss: 8.9599 - mae: 8.9599\n",
            "Epoch 18/100\n",
            "1/1 [==============================] - 0s 51ms/step - loss: 8.8274 - mae: 8.8274\n",
            "Epoch 19/100\n",
            "1/1 [==============================] - 0s 47ms/step - loss: 8.6949 - mae: 8.6949\n",
            "Epoch 20/100\n",
            "1/1 [==============================] - 0s 36ms/step - loss: 8.5624 - mae: 8.5624\n",
            "Epoch 21/100\n",
            "1/1 [==============================] - 0s 34ms/step - loss: 8.4299 - mae: 8.4299\n",
            "Epoch 22/100\n",
            "1/1 [==============================] - 0s 31ms/step - loss: 8.2974 - mae: 8.2974\n",
            "Epoch 23/100\n",
            "1/1 [==============================] - 0s 22ms/step - loss: 8.1649 - mae: 8.1649\n",
            "Epoch 24/100\n",
            "1/1 [==============================] - 0s 27ms/step - loss: 8.0324 - mae: 8.0324\n",
            "Epoch 25/100\n",
            "1/1 [==============================] - 0s 22ms/step - loss: 7.8999 - mae: 7.8999\n",
            "Epoch 26/100\n",
            "1/1 [==============================] - 0s 22ms/step - loss: 7.7674 - mae: 7.7674\n",
            "Epoch 27/100\n",
            "1/1 [==============================] - 0s 25ms/step - loss: 7.6349 - mae: 7.6349\n",
            "Epoch 28/100\n",
            "1/1 [==============================] - 0s 26ms/step - loss: 7.5024 - mae: 7.5024\n",
            "Epoch 29/100\n",
            "1/1 [==============================] - 0s 25ms/step - loss: 7.3699 - mae: 7.3699\n",
            "Epoch 30/100\n",
            "1/1 [==============================] - 0s 24ms/step - loss: 7.2825 - mae: 7.2825\n",
            "Epoch 31/100\n",
            "1/1 [==============================] - 0s 28ms/step - loss: 7.2769 - mae: 7.2769\n",
            "Epoch 32/100\n",
            "1/1 [==============================] - 0s 31ms/step - loss: 7.2712 - mae: 7.2712\n",
            "Epoch 33/100\n",
            "1/1 [==============================] - 0s 23ms/step - loss: 7.2656 - mae: 7.2656\n",
            "Epoch 34/100\n",
            "1/1 [==============================] - 0s 33ms/step - loss: 7.2600 - mae: 7.2600\n",
            "Epoch 35/100\n",
            "1/1 [==============================] - 0s 36ms/step - loss: 7.2544 - mae: 7.2544\n",
            "Epoch 36/100\n",
            "1/1 [==============================] - 0s 20ms/step - loss: 7.2487 - mae: 7.2487\n",
            "Epoch 37/100\n",
            "1/1 [==============================] - 0s 36ms/step - loss: 7.2431 - mae: 7.2431\n",
            "Epoch 38/100\n",
            "1/1 [==============================] - 0s 30ms/step - loss: 7.2375 - mae: 7.2375\n",
            "Epoch 39/100\n",
            "1/1 [==============================] - 0s 36ms/step - loss: 7.2319 - mae: 7.2319\n",
            "Epoch 40/100\n",
            "1/1 [==============================] - 0s 29ms/step - loss: 7.2262 - mae: 7.2262\n",
            "Epoch 41/100\n",
            "1/1 [==============================] - 0s 17ms/step - loss: 7.2206 - mae: 7.2206\n",
            "Epoch 42/100\n",
            "1/1 [==============================] - 0s 20ms/step - loss: 7.2150 - mae: 7.2150\n",
            "Epoch 43/100\n",
            "1/1 [==============================] - 0s 28ms/step - loss: 7.2094 - mae: 7.2094\n",
            "Epoch 44/100\n",
            "1/1 [==============================] - 0s 26ms/step - loss: 7.2038 - mae: 7.2038\n",
            "Epoch 45/100\n",
            "1/1 [==============================] - 0s 25ms/step - loss: 7.1981 - mae: 7.1981\n",
            "Epoch 46/100\n",
            "1/1 [==============================] - 0s 18ms/step - loss: 7.1925 - mae: 7.1925\n",
            "Epoch 47/100\n",
            "1/1 [==============================] - 0s 17ms/step - loss: 7.1869 - mae: 7.1869\n",
            "Epoch 48/100\n",
            "1/1 [==============================] - 0s 31ms/step - loss: 7.1812 - mae: 7.1812\n",
            "Epoch 49/100\n",
            "1/1 [==============================] - 0s 25ms/step - loss: 7.1756 - mae: 7.1756\n",
            "Epoch 50/100\n",
            "1/1 [==============================] - 0s 58ms/step - loss: 7.1700 - mae: 7.1700\n",
            "Epoch 51/100\n",
            "1/1 [==============================] - 0s 20ms/step - loss: 7.1644 - mae: 7.1644\n",
            "Epoch 52/100\n",
            "1/1 [==============================] - 0s 36ms/step - loss: 7.1587 - mae: 7.1587\n",
            "Epoch 53/100\n",
            "1/1 [==============================] - 0s 30ms/step - loss: 7.1531 - mae: 7.1531\n",
            "Epoch 54/100\n",
            "1/1 [==============================] - 0s 27ms/step - loss: 7.1475 - mae: 7.1475\n",
            "Epoch 55/100\n",
            "1/1 [==============================] - 0s 24ms/step - loss: 7.1419 - mae: 7.1419\n",
            "Epoch 56/100\n",
            "1/1 [==============================] - 0s 27ms/step - loss: 7.1363 - mae: 7.1363\n",
            "Epoch 57/100\n",
            "1/1 [==============================] - 0s 19ms/step - loss: 7.1306 - mae: 7.1306\n",
            "Epoch 58/100\n",
            "1/1 [==============================] - 0s 30ms/step - loss: 7.1250 - mae: 7.1250\n",
            "Epoch 59/100\n",
            "1/1 [==============================] - 0s 23ms/step - loss: 7.1194 - mae: 7.1194\n",
            "Epoch 60/100\n",
            "1/1 [==============================] - 0s 25ms/step - loss: 7.1138 - mae: 7.1138\n",
            "Epoch 61/100\n",
            "1/1 [==============================] - 0s 17ms/step - loss: 7.1081 - mae: 7.1081\n",
            "Epoch 62/100\n",
            "1/1 [==============================] - 0s 30ms/step - loss: 7.1025 - mae: 7.1025\n",
            "Epoch 63/100\n",
            "1/1 [==============================] - 0s 20ms/step - loss: 7.0969 - mae: 7.0969\n",
            "Epoch 64/100\n",
            "1/1 [==============================] - 0s 27ms/step - loss: 7.0912 - mae: 7.0912\n",
            "Epoch 65/100\n",
            "1/1 [==============================] - 0s 24ms/step - loss: 7.0856 - mae: 7.0856\n",
            "Epoch 66/100\n",
            "1/1 [==============================] - 0s 27ms/step - loss: 7.0800 - mae: 7.0800\n",
            "Epoch 67/100\n",
            "1/1 [==============================] - 0s 34ms/step - loss: 7.0744 - mae: 7.0744\n",
            "Epoch 68/100\n",
            "1/1 [==============================] - 0s 27ms/step - loss: 7.0687 - mae: 7.0687\n",
            "Epoch 69/100\n",
            "1/1 [==============================] - 0s 29ms/step - loss: 7.0631 - mae: 7.0631\n",
            "Epoch 70/100\n",
            "1/1 [==============================] - 0s 25ms/step - loss: 7.0575 - mae: 7.0575\n",
            "Epoch 71/100\n",
            "1/1 [==============================] - 0s 22ms/step - loss: 7.0519 - mae: 7.0519\n",
            "Epoch 72/100\n",
            "1/1 [==============================] - 0s 26ms/step - loss: 7.0463 - mae: 7.0463\n",
            "Epoch 73/100\n",
            "1/1 [==============================] - 0s 28ms/step - loss: 7.0406 - mae: 7.0406\n",
            "Epoch 74/100\n",
            "1/1 [==============================] - 0s 34ms/step - loss: 7.0350 - mae: 7.0350\n",
            "Epoch 75/100\n",
            "1/1 [==============================] - 0s 20ms/step - loss: 7.0294 - mae: 7.0294\n",
            "Epoch 76/100\n",
            "1/1 [==============================] - 0s 26ms/step - loss: 7.0238 - mae: 7.0238\n",
            "Epoch 77/100\n",
            "1/1 [==============================] - 0s 28ms/step - loss: 7.0181 - mae: 7.0181\n",
            "Epoch 78/100\n",
            "1/1 [==============================] - 0s 21ms/step - loss: 7.0125 - mae: 7.0125\n",
            "Epoch 79/100\n",
            "1/1 [==============================] - 0s 22ms/step - loss: 7.0069 - mae: 7.0069\n",
            "Epoch 80/100\n",
            "1/1 [==============================] - 0s 28ms/step - loss: 7.0012 - mae: 7.0012\n",
            "Epoch 81/100\n",
            "1/1 [==============================] - 0s 23ms/step - loss: 6.9956 - mae: 6.9956\n",
            "Epoch 82/100\n",
            "1/1 [==============================] - 0s 25ms/step - loss: 6.9900 - mae: 6.9900\n",
            "Epoch 83/100\n",
            "1/1 [==============================] - 0s 17ms/step - loss: 6.9844 - mae: 6.9844\n",
            "Epoch 84/100\n",
            "1/1 [==============================] - 0s 19ms/step - loss: 6.9788 - mae: 6.9788\n",
            "Epoch 85/100\n",
            "1/1 [==============================] - 0s 21ms/step - loss: 6.9731 - mae: 6.9731\n",
            "Epoch 86/100\n",
            "1/1 [==============================] - 0s 17ms/step - loss: 6.9675 - mae: 6.9675\n",
            "Epoch 87/100\n",
            "1/1 [==============================] - 0s 23ms/step - loss: 6.9619 - mae: 6.9619\n",
            "Epoch 88/100\n",
            "1/1 [==============================] - 0s 19ms/step - loss: 6.9563 - mae: 6.9563\n",
            "Epoch 89/100\n",
            "1/1 [==============================] - 0s 24ms/step - loss: 6.9506 - mae: 6.9506\n",
            "Epoch 90/100\n",
            "1/1 [==============================] - 0s 25ms/step - loss: 6.9450 - mae: 6.9450\n",
            "Epoch 91/100\n",
            "1/1 [==============================] - 0s 18ms/step - loss: 6.9394 - mae: 6.9394\n",
            "Epoch 92/100\n",
            "1/1 [==============================] - 0s 28ms/step - loss: 6.9338 - mae: 6.9338\n",
            "Epoch 93/100\n",
            "1/1 [==============================] - 0s 17ms/step - loss: 6.9281 - mae: 6.9281\n",
            "Epoch 94/100\n",
            "1/1 [==============================] - 0s 16ms/step - loss: 6.9225 - mae: 6.9225\n",
            "Epoch 95/100\n",
            "1/1 [==============================] - 0s 14ms/step - loss: 6.9169 - mae: 6.9169\n",
            "Epoch 96/100\n",
            "1/1 [==============================] - 0s 21ms/step - loss: 6.9113 - mae: 6.9113\n",
            "Epoch 97/100\n",
            "1/1 [==============================] - 0s 29ms/step - loss: 6.9056 - mae: 6.9056\n",
            "Epoch 98/100\n",
            "1/1 [==============================] - 0s 28ms/step - loss: 6.9000 - mae: 6.9000\n",
            "Epoch 99/100\n",
            "1/1 [==============================] - 0s 23ms/step - loss: 6.8944 - mae: 6.8944\n",
            "Epoch 100/100\n",
            "1/1 [==============================] - 0s 13ms/step - loss: 6.8888 - mae: 6.8888\n"
          ]
        },
        {
          "output_type": "execute_result",
          "data": {
            "text/plain": [
              "<keras.callbacks.History at 0x7ff1c8854160>"
            ]
          },
          "metadata": {},
          "execution_count": 9
        }
      ]
    },
    {
      "cell_type": "code",
      "source": [
        "# making prediction\n",
        "\n",
        "model.predict([17.0])"
      ],
      "metadata": {
        "colab": {
          "base_uri": "https://localhost:8080/"
        },
        "id": "_Yaw91e5QBpC",
        "outputId": "b5210894-9fff-462e-ad4b-5052cb1ac4ea"
      },
      "execution_count": null,
      "outputs": [
        {
          "output_type": "stream",
          "name": "stdout",
          "text": [
            "1/1 [==============================] - 0s 145ms/step\n"
          ]
        },
        {
          "output_type": "execute_result",
          "data": {
            "text/plain": [
              "array([[29.832106]], dtype=float32)"
            ]
          },
          "metadata": {},
          "execution_count": 10
        }
      ]
    },
    {
      "cell_type": "markdown",
      "source": [
        "Much better"
      ],
      "metadata": {
        "id": "g9iHreM_QIMy"
      }
    },
    {
      "cell_type": "code",
      "source": [
        "# Let's try to use Adam optimizer\n",
        "\n",
        "# Set random seed\n",
        "tf.random.set_seed(42)\n",
        "\n",
        "#1. Create a model using the Sequential API\n",
        "model = tf.keras.Sequential([\n",
        "    tf.keras.layers.Dense(1)\n",
        "])\n",
        "\n",
        "# another way\n",
        "# model = tf.keras.Sequential()\n",
        "# model.add.(tf.keras.Dense(1))\n",
        "\n",
        "# 2. Compile the model\n",
        "model.compile(loss = tf.keras.losses.mae,\n",
        "              optimizer = tf.keras.optimizers.Adam(),\n",
        "              metrics = [\"mae\"])\n",
        "\n",
        "# 3. Fit the model\n",
        "model.fit(tf.expand_dims(X, axis=-1), y, epochs = 100)"
      ],
      "metadata": {
        "colab": {
          "base_uri": "https://localhost:8080/"
        },
        "id": "3JWYOGFWQTua",
        "outputId": "e0c4fc4e-2753-45c1-ee58-5e00bee919d6"
      },
      "execution_count": null,
      "outputs": [
        {
          "output_type": "stream",
          "name": "stdout",
          "text": [
            "Epoch 1/100\n",
            "1/1 [==============================] - 2s 2s/step - loss: 20.6965 - mae: 20.6965\n",
            "Epoch 2/100\n",
            "1/1 [==============================] - 0s 14ms/step - loss: 20.6898 - mae: 20.6898\n",
            "Epoch 3/100\n",
            "1/1 [==============================] - 0s 15ms/step - loss: 20.6830 - mae: 20.6830\n",
            "Epoch 4/100\n",
            "1/1 [==============================] - 0s 12ms/step - loss: 20.6763 - mae: 20.6763\n",
            "Epoch 5/100\n",
            "1/1 [==============================] - 0s 18ms/step - loss: 20.6695 - mae: 20.6695\n",
            "Epoch 6/100\n",
            "1/1 [==============================] - 0s 11ms/step - loss: 20.6628 - mae: 20.6628\n",
            "Epoch 7/100\n",
            "1/1 [==============================] - 0s 20ms/step - loss: 20.6560 - mae: 20.6560\n",
            "Epoch 8/100\n",
            "1/1 [==============================] - 0s 38ms/step - loss: 20.6493 - mae: 20.6493\n",
            "Epoch 9/100\n",
            "1/1 [==============================] - 0s 19ms/step - loss: 20.6425 - mae: 20.6425\n",
            "Epoch 10/100\n",
            "1/1 [==============================] - 0s 29ms/step - loss: 20.6358 - mae: 20.6358\n",
            "Epoch 11/100\n",
            "1/1 [==============================] - 0s 19ms/step - loss: 20.6290 - mae: 20.6290\n",
            "Epoch 12/100\n",
            "1/1 [==============================] - 0s 21ms/step - loss: 20.6223 - mae: 20.6223\n",
            "Epoch 13/100\n",
            "1/1 [==============================] - 0s 21ms/step - loss: 20.6155 - mae: 20.6155\n",
            "Epoch 14/100\n",
            "1/1 [==============================] - 0s 16ms/step - loss: 20.6088 - mae: 20.6088\n",
            "Epoch 15/100\n",
            "1/1 [==============================] - 0s 20ms/step - loss: 20.6020 - mae: 20.6020\n",
            "Epoch 16/100\n",
            "1/1 [==============================] - 0s 13ms/step - loss: 20.5953 - mae: 20.5953\n",
            "Epoch 17/100\n",
            "1/1 [==============================] - 0s 16ms/step - loss: 20.5891 - mae: 20.5891\n",
            "Epoch 18/100\n",
            "1/1 [==============================] - 0s 30ms/step - loss: 20.5831 - mae: 20.5831\n",
            "Epoch 19/100\n",
            "1/1 [==============================] - 0s 23ms/step - loss: 20.5772 - mae: 20.5772\n",
            "Epoch 20/100\n",
            "1/1 [==============================] - 0s 16ms/step - loss: 20.5713 - mae: 20.5713\n",
            "Epoch 21/100\n",
            "1/1 [==============================] - 0s 13ms/step - loss: 20.5654 - mae: 20.5654\n",
            "Epoch 22/100\n",
            "1/1 [==============================] - 0s 24ms/step - loss: 20.5596 - mae: 20.5596\n",
            "Epoch 23/100\n",
            "1/1 [==============================] - 0s 18ms/step - loss: 20.5537 - mae: 20.5537\n",
            "Epoch 24/100\n",
            "1/1 [==============================] - 0s 23ms/step - loss: 20.5479 - mae: 20.5479\n",
            "Epoch 25/100\n",
            "1/1 [==============================] - 0s 16ms/step - loss: 20.5421 - mae: 20.5421\n",
            "Epoch 26/100\n",
            "1/1 [==============================] - 0s 20ms/step - loss: 20.5363 - mae: 20.5363\n",
            "Epoch 27/100\n",
            "1/1 [==============================] - 0s 20ms/step - loss: 20.5305 - mae: 20.5305\n",
            "Epoch 28/100\n",
            "1/1 [==============================] - 0s 20ms/step - loss: 20.5247 - mae: 20.5247\n",
            "Epoch 29/100\n",
            "1/1 [==============================] - 0s 19ms/step - loss: 20.5190 - mae: 20.5190\n",
            "Epoch 30/100\n",
            "1/1 [==============================] - 0s 28ms/step - loss: 20.5132 - mae: 20.5132\n",
            "Epoch 31/100\n",
            "1/1 [==============================] - 0s 22ms/step - loss: 20.5074 - mae: 20.5074\n",
            "Epoch 32/100\n",
            "1/1 [==============================] - 0s 31ms/step - loss: 20.5017 - mae: 20.5017\n",
            "Epoch 33/100\n",
            "1/1 [==============================] - 0s 16ms/step - loss: 20.4959 - mae: 20.4959\n",
            "Epoch 34/100\n",
            "1/1 [==============================] - 0s 25ms/step - loss: 20.4902 - mae: 20.4902\n",
            "Epoch 35/100\n",
            "1/1 [==============================] - 0s 30ms/step - loss: 20.4844 - mae: 20.4844\n",
            "Epoch 36/100\n",
            "1/1 [==============================] - 0s 26ms/step - loss: 20.4787 - mae: 20.4787\n",
            "Epoch 37/100\n",
            "1/1 [==============================] - 0s 37ms/step - loss: 20.4729 - mae: 20.4729\n",
            "Epoch 38/100\n",
            "1/1 [==============================] - 0s 17ms/step - loss: 20.4672 - mae: 20.4672\n",
            "Epoch 39/100\n",
            "1/1 [==============================] - 0s 21ms/step - loss: 20.4614 - mae: 20.4614\n",
            "Epoch 40/100\n",
            "1/1 [==============================] - 0s 23ms/step - loss: 20.4557 - mae: 20.4557\n",
            "Epoch 41/100\n",
            "1/1 [==============================] - 0s 21ms/step - loss: 20.4499 - mae: 20.4499\n",
            "Epoch 42/100\n",
            "1/1 [==============================] - 0s 32ms/step - loss: 20.4441 - mae: 20.4441\n",
            "Epoch 43/100\n",
            "1/1 [==============================] - 0s 27ms/step - loss: 20.4384 - mae: 20.4384\n",
            "Epoch 44/100\n",
            "1/1 [==============================] - 0s 22ms/step - loss: 20.4326 - mae: 20.4326\n",
            "Epoch 45/100\n",
            "1/1 [==============================] - 0s 24ms/step - loss: 20.4269 - mae: 20.4269\n",
            "Epoch 46/100\n",
            "1/1 [==============================] - 0s 21ms/step - loss: 20.4211 - mae: 20.4211\n",
            "Epoch 47/100\n",
            "1/1 [==============================] - 0s 11ms/step - loss: 20.4153 - mae: 20.4153\n",
            "Epoch 48/100\n",
            "1/1 [==============================] - 0s 50ms/step - loss: 20.4096 - mae: 20.4096\n",
            "Epoch 49/100\n",
            "1/1 [==============================] - 0s 18ms/step - loss: 20.4038 - mae: 20.4038\n",
            "Epoch 50/100\n",
            "1/1 [==============================] - 0s 47ms/step - loss: 20.3980 - mae: 20.3980\n",
            "Epoch 51/100\n",
            "1/1 [==============================] - 0s 16ms/step - loss: 20.3922 - mae: 20.3922\n",
            "Epoch 52/100\n",
            "1/1 [==============================] - 0s 24ms/step - loss: 20.3865 - mae: 20.3865\n",
            "Epoch 53/100\n",
            "1/1 [==============================] - 0s 51ms/step - loss: 20.3807 - mae: 20.3807\n",
            "Epoch 54/100\n",
            "1/1 [==============================] - 0s 23ms/step - loss: 20.3749 - mae: 20.3749\n",
            "Epoch 55/100\n",
            "1/1 [==============================] - 0s 21ms/step - loss: 20.3691 - mae: 20.3691\n",
            "Epoch 56/100\n",
            "1/1 [==============================] - 0s 27ms/step - loss: 20.3633 - mae: 20.3633\n",
            "Epoch 57/100\n",
            "1/1 [==============================] - 0s 27ms/step - loss: 20.3575 - mae: 20.3575\n",
            "Epoch 58/100\n",
            "1/1 [==============================] - 0s 25ms/step - loss: 20.3517 - mae: 20.3517\n",
            "Epoch 59/100\n",
            "1/1 [==============================] - 0s 24ms/step - loss: 20.3459 - mae: 20.3459\n",
            "Epoch 60/100\n",
            "1/1 [==============================] - 0s 49ms/step - loss: 20.3401 - mae: 20.3401\n",
            "Epoch 61/100\n",
            "1/1 [==============================] - 0s 59ms/step - loss: 20.3343 - mae: 20.3343\n",
            "Epoch 62/100\n",
            "1/1 [==============================] - 0s 21ms/step - loss: 20.3285 - mae: 20.3285\n",
            "Epoch 63/100\n",
            "1/1 [==============================] - 0s 44ms/step - loss: 20.3227 - mae: 20.3227\n",
            "Epoch 64/100\n",
            "1/1 [==============================] - 0s 27ms/step - loss: 20.3169 - mae: 20.3169\n",
            "Epoch 65/100\n",
            "1/1 [==============================] - 0s 34ms/step - loss: 20.3111 - mae: 20.3111\n",
            "Epoch 66/100\n",
            "1/1 [==============================] - 0s 51ms/step - loss: 20.3053 - mae: 20.3053\n",
            "Epoch 67/100\n",
            "1/1 [==============================] - 0s 33ms/step - loss: 20.2995 - mae: 20.2995\n",
            "Epoch 68/100\n",
            "1/1 [==============================] - 0s 20ms/step - loss: 20.2937 - mae: 20.2937\n",
            "Epoch 69/100\n",
            "1/1 [==============================] - 0s 25ms/step - loss: 20.2878 - mae: 20.2878\n",
            "Epoch 70/100\n",
            "1/1 [==============================] - 0s 17ms/step - loss: 20.2820 - mae: 20.2820\n",
            "Epoch 71/100\n",
            "1/1 [==============================] - 0s 16ms/step - loss: 20.2762 - mae: 20.2762\n",
            "Epoch 72/100\n",
            "1/1 [==============================] - 0s 16ms/step - loss: 20.2704 - mae: 20.2704\n",
            "Epoch 73/100\n",
            "1/1 [==============================] - 0s 16ms/step - loss: 20.2645 - mae: 20.2645\n",
            "Epoch 74/100\n",
            "1/1 [==============================] - 0s 21ms/step - loss: 20.2587 - mae: 20.2587\n",
            "Epoch 75/100\n",
            "1/1 [==============================] - 0s 17ms/step - loss: 20.2529 - mae: 20.2529\n",
            "Epoch 76/100\n",
            "1/1 [==============================] - 0s 19ms/step - loss: 20.2470 - mae: 20.2470\n",
            "Epoch 77/100\n",
            "1/1 [==============================] - 0s 21ms/step - loss: 20.2412 - mae: 20.2412\n",
            "Epoch 78/100\n",
            "1/1 [==============================] - 0s 17ms/step - loss: 20.2354 - mae: 20.2354\n",
            "Epoch 79/100\n",
            "1/1 [==============================] - 0s 21ms/step - loss: 20.2295 - mae: 20.2295\n",
            "Epoch 80/100\n",
            "1/1 [==============================] - 0s 21ms/step - loss: 20.2237 - mae: 20.2237\n",
            "Epoch 81/100\n",
            "1/1 [==============================] - 0s 16ms/step - loss: 20.2178 - mae: 20.2178\n",
            "Epoch 82/100\n",
            "1/1 [==============================] - 0s 24ms/step - loss: 20.2120 - mae: 20.2120\n",
            "Epoch 83/100\n",
            "1/1 [==============================] - 0s 33ms/step - loss: 20.2061 - mae: 20.2061\n",
            "Epoch 84/100\n",
            "1/1 [==============================] - 0s 18ms/step - loss: 20.2003 - mae: 20.2003\n",
            "Epoch 85/100\n",
            "1/1 [==============================] - 0s 15ms/step - loss: 20.1944 - mae: 20.1944\n",
            "Epoch 86/100\n",
            "1/1 [==============================] - 0s 20ms/step - loss: 20.1886 - mae: 20.1886\n",
            "Epoch 87/100\n",
            "1/1 [==============================] - 0s 17ms/step - loss: 20.1827 - mae: 20.1827\n",
            "Epoch 88/100\n",
            "1/1 [==============================] - 0s 17ms/step - loss: 20.1769 - mae: 20.1769\n",
            "Epoch 89/100\n",
            "1/1 [==============================] - 0s 19ms/step - loss: 20.1710 - mae: 20.1710\n",
            "Epoch 90/100\n",
            "1/1 [==============================] - 0s 41ms/step - loss: 20.1651 - mae: 20.1651\n",
            "Epoch 91/100\n",
            "1/1 [==============================] - 0s 47ms/step - loss: 20.1593 - mae: 20.1593\n",
            "Epoch 92/100\n",
            "1/1 [==============================] - 0s 23ms/step - loss: 20.1534 - mae: 20.1534\n",
            "Epoch 93/100\n",
            "1/1 [==============================] - 0s 24ms/step - loss: 20.1476 - mae: 20.1476\n",
            "Epoch 94/100\n",
            "1/1 [==============================] - 0s 17ms/step - loss: 20.1417 - mae: 20.1417\n",
            "Epoch 95/100\n",
            "1/1 [==============================] - 0s 17ms/step - loss: 20.1358 - mae: 20.1358\n",
            "Epoch 96/100\n",
            "1/1 [==============================] - 0s 26ms/step - loss: 20.1300 - mae: 20.1300\n",
            "Epoch 97/100\n",
            "1/1 [==============================] - 0s 23ms/step - loss: 20.1241 - mae: 20.1241\n",
            "Epoch 98/100\n",
            "1/1 [==============================] - 0s 17ms/step - loss: 20.1182 - mae: 20.1182\n",
            "Epoch 99/100\n",
            "1/1 [==============================] - 0s 28ms/step - loss: 20.1124 - mae: 20.1124\n",
            "Epoch 100/100\n",
            "1/1 [==============================] - 0s 20ms/step - loss: 20.1065 - mae: 20.1065\n"
          ]
        },
        {
          "output_type": "execute_result",
          "data": {
            "text/plain": [
              "<keras.callbacks.History at 0x7ff1c872f310>"
            ]
          },
          "metadata": {},
          "execution_count": 11
        }
      ]
    },
    {
      "cell_type": "code",
      "source": [
        "# making prediction\n",
        "\n",
        "model.predict([17.0])"
      ],
      "metadata": {
        "colab": {
          "base_uri": "https://localhost:8080/"
        },
        "id": "BpifAv3VQee6",
        "outputId": "0f74cc64-4e77-45f1-aac8-9bd6e9365d10"
      },
      "execution_count": null,
      "outputs": [
        {
          "output_type": "stream",
          "name": "stdout",
          "text": [
            "1/1 [==============================] - 0s 119ms/step\n"
          ]
        },
        {
          "output_type": "execute_result",
          "data": {
            "text/plain": [
              "array([[-23.954123]], dtype=float32)"
            ]
          },
          "metadata": {},
          "execution_count": 12
        }
      ]
    },
    {
      "cell_type": "markdown",
      "source": [
        "Better"
      ],
      "metadata": {
        "id": "uoEGElqfQ7cH"
      }
    },
    {
      "cell_type": "code",
      "source": [
        "# Let's try to use extra layeer\n",
        "\n",
        "# Set random seed\n",
        "tf.random.set_seed(42)\n",
        "\n",
        "#1. Create a model using the Sequential API\n",
        "model = tf.keras.Sequential([\n",
        "    tf.keras.layers.Dense(100, activation = \"relu\"),\n",
        "    tf.keras.layers.Dense(1)\n",
        "])\n",
        "\n",
        "# another way\n",
        "# model = tf.keras.Sequential()\n",
        "# model.add.(tf.keras.Dense(1))\n",
        "\n",
        "# 2. Compile the model\n",
        "model.compile(loss = tf.keras.losses.mae,\n",
        "              optimizer = tf.keras.optimizers.Adam(),\n",
        "              metrics = [\"mae\"])\n",
        "\n",
        "# 3. Fit the model\n",
        "model.fit(tf.expand_dims(X, axis=-1), y, epochs = 100)"
      ],
      "metadata": {
        "colab": {
          "base_uri": "https://localhost:8080/"
        },
        "id": "BftBo22fQ9-y",
        "outputId": "2e3ce430-6269-4c4e-e911-208c5bf08ed3"
      },
      "execution_count": null,
      "outputs": [
        {
          "output_type": "stream",
          "name": "stdout",
          "text": [
            "Epoch 1/100\n",
            "1/1 [==============================] - 1s 1s/step - loss: 12.3416 - mae: 12.3416\n",
            "Epoch 2/100\n",
            "1/1 [==============================] - 0s 35ms/step - loss: 12.2592 - mae: 12.2592\n",
            "Epoch 3/100\n",
            "1/1 [==============================] - 0s 27ms/step - loss: 12.1767 - mae: 12.1767\n",
            "Epoch 4/100\n",
            "1/1 [==============================] - 0s 20ms/step - loss: 12.0942 - mae: 12.0942\n",
            "Epoch 5/100\n",
            "1/1 [==============================] - 0s 27ms/step - loss: 12.0116 - mae: 12.0116\n",
            "Epoch 6/100\n",
            "1/1 [==============================] - 0s 17ms/step - loss: 11.9291 - mae: 11.9291\n",
            "Epoch 7/100\n",
            "1/1 [==============================] - 0s 13ms/step - loss: 11.8467 - mae: 11.8467\n",
            "Epoch 8/100\n",
            "1/1 [==============================] - 0s 21ms/step - loss: 11.7650 - mae: 11.7650\n",
            "Epoch 9/100\n",
            "1/1 [==============================] - 0s 24ms/step - loss: 11.6834 - mae: 11.6834\n",
            "Epoch 10/100\n",
            "1/1 [==============================] - 0s 15ms/step - loss: 11.6024 - mae: 11.6024\n",
            "Epoch 11/100\n",
            "1/1 [==============================] - 0s 23ms/step - loss: 11.5489 - mae: 11.5489\n",
            "Epoch 12/100\n",
            "1/1 [==============================] - 0s 19ms/step - loss: 11.4970 - mae: 11.4970\n",
            "Epoch 13/100\n",
            "1/1 [==============================] - 0s 19ms/step - loss: 11.4447 - mae: 11.4447\n",
            "Epoch 14/100\n",
            "1/1 [==============================] - 0s 21ms/step - loss: 11.3919 - mae: 11.3919\n",
            "Epoch 15/100\n",
            "1/1 [==============================] - 0s 21ms/step - loss: 11.3387 - mae: 11.3387\n",
            "Epoch 16/100\n",
            "1/1 [==============================] - 0s 14ms/step - loss: 11.2852 - mae: 11.2852\n",
            "Epoch 17/100\n",
            "1/1 [==============================] - 0s 21ms/step - loss: 11.2313 - mae: 11.2313\n",
            "Epoch 18/100\n",
            "1/1 [==============================] - 0s 19ms/step - loss: 11.1772 - mae: 11.1772\n",
            "Epoch 19/100\n",
            "1/1 [==============================] - 0s 15ms/step - loss: 11.1227 - mae: 11.1227\n",
            "Epoch 20/100\n",
            "1/1 [==============================] - 0s 19ms/step - loss: 11.0678 - mae: 11.0678\n",
            "Epoch 21/100\n",
            "1/1 [==============================] - 0s 32ms/step - loss: 11.0127 - mae: 11.0127\n",
            "Epoch 22/100\n",
            "1/1 [==============================] - 0s 20ms/step - loss: 10.9573 - mae: 10.9573\n",
            "Epoch 23/100\n",
            "1/1 [==============================] - 0s 24ms/step - loss: 10.9016 - mae: 10.9016\n",
            "Epoch 24/100\n",
            "1/1 [==============================] - 0s 23ms/step - loss: 10.8456 - mae: 10.8456\n",
            "Epoch 25/100\n",
            "1/1 [==============================] - 0s 18ms/step - loss: 10.7893 - mae: 10.7893\n",
            "Epoch 26/100\n",
            "1/1 [==============================] - 0s 24ms/step - loss: 10.7327 - mae: 10.7327\n",
            "Epoch 27/100\n",
            "1/1 [==============================] - 0s 28ms/step - loss: 10.6758 - mae: 10.6758\n",
            "Epoch 28/100\n",
            "1/1 [==============================] - 0s 22ms/step - loss: 10.6186 - mae: 10.6186\n",
            "Epoch 29/100\n",
            "1/1 [==============================] - 0s 18ms/step - loss: 10.5611 - mae: 10.5611\n",
            "Epoch 30/100\n",
            "1/1 [==============================] - 0s 28ms/step - loss: 10.5034 - mae: 10.5034\n",
            "Epoch 31/100\n",
            "1/1 [==============================] - 0s 25ms/step - loss: 10.4454 - mae: 10.4454\n",
            "Epoch 32/100\n",
            "1/1 [==============================] - 0s 28ms/step - loss: 10.3871 - mae: 10.3871\n",
            "Epoch 33/100\n",
            "1/1 [==============================] - 0s 27ms/step - loss: 10.3284 - mae: 10.3284\n",
            "Epoch 34/100\n",
            "1/1 [==============================] - 0s 13ms/step - loss: 10.2694 - mae: 10.2694\n",
            "Epoch 35/100\n",
            "1/1 [==============================] - 0s 21ms/step - loss: 10.2101 - mae: 10.2101\n",
            "Epoch 36/100\n",
            "1/1 [==============================] - 0s 19ms/step - loss: 10.1504 - mae: 10.1504\n",
            "Epoch 37/100\n",
            "1/1 [==============================] - 0s 38ms/step - loss: 10.0903 - mae: 10.0903\n",
            "Epoch 38/100\n",
            "1/1 [==============================] - 0s 22ms/step - loss: 10.0299 - mae: 10.0299\n",
            "Epoch 39/100\n",
            "1/1 [==============================] - 0s 20ms/step - loss: 9.9691 - mae: 9.9691\n",
            "Epoch 40/100\n",
            "1/1 [==============================] - 0s 27ms/step - loss: 9.9080 - mae: 9.9080\n",
            "Epoch 41/100\n",
            "1/1 [==============================] - 0s 25ms/step - loss: 9.8467 - mae: 9.8467\n",
            "Epoch 42/100\n",
            "1/1 [==============================] - 0s 26ms/step - loss: 9.7852 - mae: 9.7852\n",
            "Epoch 43/100\n",
            "1/1 [==============================] - 0s 38ms/step - loss: 9.7235 - mae: 9.7235\n",
            "Epoch 44/100\n",
            "1/1 [==============================] - 0s 31ms/step - loss: 9.6614 - mae: 9.6614\n",
            "Epoch 45/100\n",
            "1/1 [==============================] - 0s 28ms/step - loss: 9.5990 - mae: 9.5990\n",
            "Epoch 46/100\n",
            "1/1 [==============================] - 0s 30ms/step - loss: 9.5363 - mae: 9.5363\n",
            "Epoch 47/100\n",
            "1/1 [==============================] - 0s 40ms/step - loss: 9.4732 - mae: 9.4732\n",
            "Epoch 48/100\n",
            "1/1 [==============================] - 0s 42ms/step - loss: 9.4097 - mae: 9.4097\n",
            "Epoch 49/100\n",
            "1/1 [==============================] - 0s 32ms/step - loss: 9.3457 - mae: 9.3457\n",
            "Epoch 50/100\n",
            "1/1 [==============================] - 0s 27ms/step - loss: 9.2813 - mae: 9.2813\n",
            "Epoch 51/100\n",
            "1/1 [==============================] - 0s 14ms/step - loss: 9.2164 - mae: 9.2164\n",
            "Epoch 52/100\n",
            "1/1 [==============================] - 0s 28ms/step - loss: 9.1510 - mae: 9.1510\n",
            "Epoch 53/100\n",
            "1/1 [==============================] - 0s 29ms/step - loss: 9.0852 - mae: 9.0852\n",
            "Epoch 54/100\n",
            "1/1 [==============================] - 0s 22ms/step - loss: 9.0188 - mae: 9.0188\n",
            "Epoch 55/100\n",
            "1/1 [==============================] - 0s 27ms/step - loss: 8.9519 - mae: 8.9519\n",
            "Epoch 56/100\n",
            "1/1 [==============================] - 0s 21ms/step - loss: 8.8843 - mae: 8.8843\n",
            "Epoch 57/100\n",
            "1/1 [==============================] - 0s 17ms/step - loss: 8.8163 - mae: 8.8163\n",
            "Epoch 58/100\n",
            "1/1 [==============================] - 0s 41ms/step - loss: 8.7478 - mae: 8.7478\n",
            "Epoch 59/100\n",
            "1/1 [==============================] - 0s 28ms/step - loss: 8.6788 - mae: 8.6788\n",
            "Epoch 60/100\n",
            "1/1 [==============================] - 0s 31ms/step - loss: 8.6112 - mae: 8.6112\n",
            "Epoch 61/100\n",
            "1/1 [==============================] - 0s 14ms/step - loss: 8.5414 - mae: 8.5414\n",
            "Epoch 62/100\n",
            "1/1 [==============================] - 0s 24ms/step - loss: 8.4721 - mae: 8.4721\n",
            "Epoch 63/100\n",
            "1/1 [==============================] - 0s 18ms/step - loss: 8.4021 - mae: 8.4021\n",
            "Epoch 64/100\n",
            "1/1 [==============================] - 0s 22ms/step - loss: 8.3315 - mae: 8.3315\n",
            "Epoch 65/100\n",
            "1/1 [==============================] - 0s 26ms/step - loss: 8.2602 - mae: 8.2602\n",
            "Epoch 66/100\n",
            "1/1 [==============================] - 0s 25ms/step - loss: 8.1882 - mae: 8.1882\n",
            "Epoch 67/100\n",
            "1/1 [==============================] - 0s 15ms/step - loss: 8.1156 - mae: 8.1156\n",
            "Epoch 68/100\n",
            "1/1 [==============================] - 0s 35ms/step - loss: 8.0423 - mae: 8.0423\n",
            "Epoch 69/100\n",
            "1/1 [==============================] - 0s 25ms/step - loss: 7.9682 - mae: 7.9682\n",
            "Epoch 70/100\n",
            "1/1 [==============================] - 0s 23ms/step - loss: 7.8935 - mae: 7.8935\n",
            "Epoch 71/100\n",
            "1/1 [==============================] - 0s 27ms/step - loss: 7.8186 - mae: 7.8186\n",
            "Epoch 72/100\n",
            "1/1 [==============================] - 0s 19ms/step - loss: 7.7430 - mae: 7.7430\n",
            "Epoch 73/100\n",
            "1/1 [==============================] - 0s 30ms/step - loss: 7.6671 - mae: 7.6671\n",
            "Epoch 74/100\n",
            "1/1 [==============================] - 0s 21ms/step - loss: 7.5904 - mae: 7.5904\n",
            "Epoch 75/100\n",
            "1/1 [==============================] - 0s 27ms/step - loss: 7.5130 - mae: 7.5130\n",
            "Epoch 76/100\n",
            "1/1 [==============================] - 0s 16ms/step - loss: 7.4349 - mae: 7.4349\n",
            "Epoch 77/100\n",
            "1/1 [==============================] - 0s 22ms/step - loss: 7.3560 - mae: 7.3560\n",
            "Epoch 78/100\n",
            "1/1 [==============================] - 0s 15ms/step - loss: 7.2765 - mae: 7.2765\n",
            "Epoch 79/100\n",
            "1/1 [==============================] - 0s 28ms/step - loss: 7.1992 - mae: 7.1992\n",
            "Epoch 80/100\n",
            "1/1 [==============================] - 0s 19ms/step - loss: 7.1161 - mae: 7.1161\n",
            "Epoch 81/100\n",
            "1/1 [==============================] - 0s 22ms/step - loss: 7.0351 - mae: 7.0351\n",
            "Epoch 82/100\n",
            "1/1 [==============================] - 0s 29ms/step - loss: 6.9534 - mae: 6.9534\n",
            "Epoch 83/100\n",
            "1/1 [==============================] - 0s 24ms/step - loss: 6.8710 - mae: 6.8710\n",
            "Epoch 84/100\n",
            "1/1 [==============================] - 0s 26ms/step - loss: 6.7878 - mae: 6.7878\n",
            "Epoch 85/100\n",
            "1/1 [==============================] - 0s 28ms/step - loss: 6.7037 - mae: 6.7037\n",
            "Epoch 86/100\n",
            "1/1 [==============================] - 0s 30ms/step - loss: 6.6188 - mae: 6.6188\n",
            "Epoch 87/100\n",
            "1/1 [==============================] - 0s 36ms/step - loss: 6.5352 - mae: 6.5352\n",
            "Epoch 88/100\n",
            "1/1 [==============================] - 0s 34ms/step - loss: 6.4478 - mae: 6.4478\n",
            "Epoch 89/100\n",
            "1/1 [==============================] - 0s 31ms/step - loss: 6.3614 - mae: 6.3614\n",
            "Epoch 90/100\n",
            "1/1 [==============================] - 0s 35ms/step - loss: 6.2742 - mae: 6.2742\n",
            "Epoch 91/100\n",
            "1/1 [==============================] - 0s 32ms/step - loss: 6.1862 - mae: 6.1862\n",
            "Epoch 92/100\n",
            "1/1 [==============================] - 0s 53ms/step - loss: 6.0973 - mae: 6.0973\n",
            "Epoch 93/100\n",
            "1/1 [==============================] - 0s 62ms/step - loss: 6.0076 - mae: 6.0076\n",
            "Epoch 94/100\n",
            "1/1 [==============================] - 0s 54ms/step - loss: 5.9171 - mae: 5.9171\n",
            "Epoch 95/100\n",
            "1/1 [==============================] - 0s 57ms/step - loss: 5.8257 - mae: 5.8257\n",
            "Epoch 96/100\n",
            "1/1 [==============================] - 0s 52ms/step - loss: 5.7368 - mae: 5.7368\n",
            "Epoch 97/100\n",
            "1/1 [==============================] - 0s 51ms/step - loss: 5.6416 - mae: 5.6416\n",
            "Epoch 98/100\n",
            "1/1 [==============================] - 0s 40ms/step - loss: 5.5488 - mae: 5.5488\n",
            "Epoch 99/100\n",
            "1/1 [==============================] - 0s 41ms/step - loss: 5.4551 - mae: 5.4551\n",
            "Epoch 100/100\n",
            "1/1 [==============================] - 0s 45ms/step - loss: 5.3605 - mae: 5.3605\n"
          ]
        },
        {
          "output_type": "execute_result",
          "data": {
            "text/plain": [
              "<keras.callbacks.History at 0x7ff1c8854cd0>"
            ]
          },
          "metadata": {},
          "execution_count": 13
        }
      ]
    },
    {
      "cell_type": "code",
      "source": [
        "# making prediction\n",
        "\n",
        "model.predict([17.0])"
      ],
      "metadata": {
        "colab": {
          "base_uri": "https://localhost:8080/"
        },
        "id": "3614j1CqSl65",
        "outputId": "3bb844d5-80fb-4a90-d842-33a1cdbcfebc"
      },
      "execution_count": null,
      "outputs": [
        {
          "output_type": "stream",
          "name": "stdout",
          "text": [
            "1/1 [==============================] - 1s 609ms/step\n"
          ]
        },
        {
          "output_type": "execute_result",
          "data": {
            "text/plain": [
              "array([[24.518663]], dtype=float32)"
            ]
          },
          "metadata": {},
          "execution_count": 14
        }
      ]
    },
    {
      "cell_type": "markdown",
      "source": [
        "Even Better"
      ],
      "metadata": {
        "id": "Mp3HwpS8SonS"
      }
    },
    {
      "cell_type": "markdown",
      "source": [
        "We can try to check with different model parameters and see how the prediction varies."
      ],
      "metadata": {
        "id": "fSf9Txc_WNRq"
      }
    },
    {
      "cell_type": "markdown",
      "source": [
        "##Evaluating the model"
      ],
      "metadata": {
        "id": "gN_tFxAYfiz7"
      }
    },
    {
      "cell_type": "markdown",
      "source": [
        "Visualization is an important tool for visualization"
      ],
      "metadata": {
        "id": "xD7RSAkd8Igt"
      }
    },
    {
      "cell_type": "code",
      "source": [
        "# Make a bigger dataset\n",
        "X = np.arange(-100, 100, 4)\n",
        "y = np.arange(-90, 110, 4)\n",
        "X,y"
      ],
      "metadata": {
        "colab": {
          "base_uri": "https://localhost:8080/"
        },
        "id": "LEooApZt9Td1",
        "outputId": "8212888d-c2cf-429e-94d3-abab4b17ce8f"
      },
      "execution_count": null,
      "outputs": [
        {
          "output_type": "execute_result",
          "data": {
            "text/plain": [
              "(array([-100,  -96,  -92,  -88,  -84,  -80,  -76,  -72,  -68,  -64,  -60,\n",
              "         -56,  -52,  -48,  -44,  -40,  -36,  -32,  -28,  -24,  -20,  -16,\n",
              "         -12,   -8,   -4,    0,    4,    8,   12,   16,   20,   24,   28,\n",
              "          32,   36,   40,   44,   48,   52,   56,   60,   64,   68,   72,\n",
              "          76,   80,   84,   88,   92,   96]),\n",
              " array([-90, -86, -82, -78, -74, -70, -66, -62, -58, -54, -50, -46, -42,\n",
              "        -38, -34, -30, -26, -22, -18, -14, -10,  -6,  -2,   2,   6,  10,\n",
              "         14,  18,  22,  26,  30,  34,  38,  42,  46,  50,  54,  58,  62,\n",
              "         66,  70,  74,  78,  82,  86,  90,  94,  98, 102, 106]))"
            ]
          },
          "metadata": {},
          "execution_count": 15
        }
      ]
    },
    {
      "cell_type": "code",
      "source": [
        "# Split data into train; test; and valid dataset\n",
        "\n",
        "import sklearn\n",
        "from sklearn.model_selection import train_test_split"
      ],
      "metadata": {
        "id": "XM0_aL7F-Mzc"
      },
      "execution_count": null,
      "outputs": []
    },
    {
      "cell_type": "code",
      "source": [
        "X_train, X_test, y_train, y_test = train_test_split(\n",
        "    X, y, test_size=0.2, random_state=42)"
      ],
      "metadata": {
        "id": "qAp3-_UH-0sE"
      },
      "execution_count": null,
      "outputs": []
    },
    {
      "cell_type": "code",
      "source": [
        "# Visualize the data\n",
        "\n",
        "\n",
        "plt.figure()\n",
        "plt.scatter(X_train, y_train, label='training data')\n",
        "plt.scatter(X_test, y_test, label='test data')\n",
        "plt.legend()"
      ],
      "metadata": {
        "colab": {
          "base_uri": "https://localhost:8080/",
          "height": 448
        },
        "id": "dJtWHRn9_Vn0",
        "outputId": "bd1772a9-23a8-4746-8a31-f7305ccce614"
      },
      "execution_count": null,
      "outputs": [
        {
          "output_type": "execute_result",
          "data": {
            "text/plain": [
              "<matplotlib.legend.Legend at 0x7ff1b68a1fd0>"
            ]
          },
          "metadata": {},
          "execution_count": 18
        },
        {
          "output_type": "display_data",
          "data": {
            "text/plain": [
              "<Figure size 640x480 with 1 Axes>"
            ],
            "image/png": "[encoded data removed]"
          },
          "metadata": {}
        }
      ]
    },
    {
      "cell_type": "code",
      "source": [
        "# Set random seed\n",
        "tf.random.set_seed(42)\n",
        "\n",
        "# Create a model (same as above)      # defining the input shape argument, the model builds automatically. We can use model.build() otherwise to build the model.\n",
        "model = tf.keras.Sequential([\n",
        "  tf.keras.layers.Dense(1, input_shape=[1])     # Dense layer is a fully connected layer.\n",
        "])\n",
        "\n",
        "# Compile model (same as above)\n",
        "model.compile(loss=tf.keras.losses.mae,\n",
        "              optimizer=tf.keras.optimizers.SGD(),\n",
        "              metrics=[\"mae\"])\n",
        "\n",
        "# Fit model\n",
        "model.fit(X_train, y_train, epochs=100, verbose = 0)      # Verbose = 0 hides the annoying cell output."
      ],
      "metadata": {
        "colab": {
          "base_uri": "https://localhost:8080/"
        },
        "id": "8k54HGkxAK_U",
        "outputId": "6b6be610-4784-4850-b1e3-5a9cc98625a3"
      },
      "execution_count": null,
      "outputs": [
        {
          "output_type": "execute_result",
          "data": {
            "text/plain": [
              "<keras.callbacks.History at 0x7ff1bab5d250>"
            ]
          },
          "metadata": {},
          "execution_count": 19
        }
      ]
    },
    {
      "cell_type": "code",
      "source": [
        "# Visualizing the Model\n",
        "\n",
        "model.summary()"
      ],
      "metadata": {
        "colab": {
          "base_uri": "https://localhost:8080/"
        },
        "id": "yWj04kbzCoiG",
        "outputId": "2dcf4ac9-5663-4e55-c589-1978c42b0053"
      },
      "execution_count": null,
      "outputs": [
        {
          "output_type": "stream",
          "name": "stdout",
          "text": [
            "Model: \"sequential_4\"\n",
            "_________________________________________________________________\n",
            " Layer (type)                Output Shape              Param #   \n",
            "=================================================================\n",
            " dense_5 (Dense)             (None, 1)                 2         \n",
            "                                                                 \n",
            "=================================================================\n",
            "Total params: 2\n",
            "Trainable params: 2\n",
            "Non-trainable params: 0\n",
            "_________________________________________________________________\n"
          ]
        }
      ]
    },
    {
      "cell_type": "markdown",
      "source": [
        "* Total parameters are the total parameters in the model.\n",
        "\n",
        "* Trainable parameters are the parameters(patterns) the model can update as it trains.\n",
        "\n",
        "* Non-Trainable parameters are parameters(patterns) the model can't update as it trains. This is typical when you bring in already learned patterns or parameters from other models during transfer learning."
      ],
      "metadata": {
        "id": "wdvD4i5-D6FH"
      }
    },
    {
      "cell_type": "code",
      "source": [
        "y_pred = model.predict(X_test)\n",
        "y_pred"
      ],
      "metadata": {
        "colab": {
          "base_uri": "https://localhost:8080/"
        },
        "id": "vWYVOgZ6AsRt",
        "outputId": "f819b270-e0e0-4080-8dc7-1c521505c636"
      },
      "execution_count": null,
      "outputs": [
        {
          "output_type": "stream",
          "name": "stderr",
          "text": [
            "WARNING:tensorflow:5 out of the last 5 calls to <function Model.make_predict_function.<locals>.predict_function at 0x7ff1bab01160> triggered tf.function retracing. Tracing is expensive and the excessive number of tracings could be due to (1) creating @tf.function repeatedly in a loop, (2) passing tensors with different shapes, (3) passing Python objects instead of tensors. For (1), please define your @tf.function outside of the loop. For (2), @tf.function has reduce_retracing=True option that can avoid unnecessary retracing. For (3), please refer to https://www.tensorflow.org/guide/function#controlling_retracing and https://www.tensorflow.org/api_docs/python/tf/function for  more details.\n"
          ]
        },
        {
          "output_type": "stream",
          "name": "stdout",
          "text": [
            "1/1 [==============================] - 0s 95ms/step\n"
          ]
        },
        {
          "output_type": "execute_result",
          "data": {
            "text/plain": [
              "array([[-30.725626 ],\n",
              "       [ 38.372086 ],\n",
              "       [ 14.453646 ],\n",
              "       [ 54.31771  ],\n",
              "       [-20.09521  ],\n",
              "       [ 62.290524 ],\n",
              "       [  3.823229 ],\n",
              "       [  1.1656249],\n",
              "       [ 19.768854 ],\n",
              "       [-14.780001 ]], dtype=float32)"
            ]
          },
          "metadata": {},
          "execution_count": 21
        }
      ]
    },
    {
      "cell_type": "code",
      "source": [
        "model.evaluate(X_test, y_test)"
      ],
      "metadata": {
        "colab": {
          "base_uri": "https://localhost:8080/"
        },
        "id": "UtzJy0B2BIw7",
        "outputId": "40aba994-21b8-4786-92b0-da6bf8cc2892"
      },
      "execution_count": null,
      "outputs": [
        {
          "output_type": "stream",
          "name": "stdout",
          "text": [
            "1/1 [==============================] - 1s 541ms/step - loss: 16.5767 - mae: 16.5767\n"
          ]
        },
        {
          "output_type": "execute_result",
          "data": {
            "text/plain": [
              "[16.57674789428711, 16.57674789428711]"
            ]
          },
          "metadata": {},
          "execution_count": 22
        }
      ]
    },
    {
      "cell_type": "markdown",
      "source": [
        "The loss and metric values of the new model are given above.\n",
        "\n",
        "Not bad"
      ],
      "metadata": {
        "id": "eZCLaThgBUos"
      }
    },
    {
      "cell_type": "code",
      "source": [
        "# Another way of visualizing the model\n",
        "\n",
        "from tensorflow.keras.utils import plot_model\n",
        "\n",
        "plot_model(model = model, show_shapes = True)"
      ],
      "metadata": {
        "colab": {
          "base_uri": "https://localhost:8080/",
          "height": 201
        },
        "id": "RH9pbPJCBHeh",
        "outputId": "328c1d52-d7b0-49bc-b7a1-404601aea911"
      },
      "execution_count": null,
      "outputs": [
        {
          "output_type": "execute_result",
          "data": {
            "image/png": "[encoded data removed]",
            "text/plain": [
              "<IPython.core.display.Image object>"
            ]
          },
          "metadata": {},
          "execution_count": 23
        }
      ]
    },
    {
      "cell_type": "code",
      "source": [
        "# New model\n",
        "\n",
        "# Set random seed\n",
        "tf.random.set_seed(42)\n",
        "\n",
        "# Create a model (same as above)      # defining the input shape argument, the model builds automatically. We can use model.build() otherwise to build the model.\n",
        "model_1 = tf.keras.Sequential([\n",
        "  tf.keras.layers.Dense(10, input_shape=[1], name = \"Input_Layer\"),     # Dense layer is a fully connected layer.\n",
        "  tf.keras.layers.Dense(1, name = \"Output_Layer\")\n",
        "], name =\"model_1\")\n",
        "\n",
        "# Compile model (same as above)\n",
        "model_1.compile(loss=tf.keras.losses.mae,\n",
        "              optimizer=tf.keras.optimizers.Adam(),\n",
        "              metrics=[\"mae\"])\n",
        "\n",
        "# Fit model\n",
        "model_1.fit(X_train, y_train, epochs=100, verbose = 0)      # Verbose = 0 hides the annoying cell output."
      ],
      "metadata": {
        "colab": {
          "base_uri": "https://localhost:8080/"
        },
        "id": "palOyjm4H8-C",
        "outputId": "f5751014-4015-40dd-c107-55783531a1f4"
      },
      "execution_count": null,
      "outputs": [
        {
          "output_type": "execute_result",
          "data": {
            "text/plain": [
              "<keras.callbacks.History at 0x7ff1baa63760>"
            ]
          },
          "metadata": {},
          "execution_count": 24
        }
      ]
    },
    {
      "cell_type": "code",
      "source": [
        "# Visualizing the Model\n",
        "\n",
        "model_1.summary()"
      ],
      "metadata": {
        "colab": {
          "base_uri": "https://localhost:8080/"
        },
        "id": "fXj8o72ZI1JN",
        "outputId": "01f87777-42f6-42ab-ed6c-4438d2065302"
      },
      "execution_count": null,
      "outputs": [
        {
          "output_type": "stream",
          "name": "stdout",
          "text": [
            "Model: \"model_1\"\n",
            "_________________________________________________________________\n",
            " Layer (type)                Output Shape              Param #   \n",
            "=================================================================\n",
            " Input_Layer (Dense)         (None, 10)                20        \n",
            "                                                                 \n",
            " Output_Layer (Dense)        (None, 1)                 11        \n",
            "                                                                 \n",
            "=================================================================\n",
            "Total params: 31\n",
            "Trainable params: 31\n",
            "Non-trainable params: 0\n",
            "_________________________________________________________________\n"
          ]
        }
      ]
    },
    {
      "cell_type": "code",
      "source": [
        "# Another way of visualizing the model\n",
        "\n",
        "from tensorflow.keras.utils import plot_model\n",
        "\n",
        "plot_model(model = model_1, show_shapes = True)"
      ],
      "metadata": {
        "colab": {
          "base_uri": "https://localhost:8080/",
          "height": 312
        },
        "id": "OqylwVCSJHXh",
        "outputId": "fe081649-bb69-4082-d709-fbfa9a4a40a8"
      },
      "execution_count": null,
      "outputs": [
        {
          "output_type": "execute_result",
          "data": {
            "image/png": "[encoded data removed]",
            "text/plain": [
              "<IPython.core.display.Image object>"
            ]
          },
          "metadata": {},
          "execution_count": 26
        }
      ]
    },
    {
      "cell_type": "code",
      "source": [
        "y_pred_1 = model_1.predict(X_test)\n",
        "y_pred_1"
      ],
      "metadata": {
        "colab": {
          "base_uri": "https://localhost:8080/"
        },
        "id": "J-DhL13hJPXw",
        "outputId": "6f795421-8875-4089-e97d-3c0b2400c650"
      },
      "execution_count": null,
      "outputs": [
        {
          "output_type": "stream",
          "name": "stderr",
          "text": [
            "WARNING:tensorflow:6 out of the last 6 calls to <function Model.make_predict_function.<locals>.predict_function at 0x7ff2655a2b80> triggered tf.function retracing. Tracing is expensive and the excessive number of tracings could be due to (1) creating @tf.function repeatedly in a loop, (2) passing tensors with different shapes, (3) passing Python objects instead of tensors. For (1), please define your @tf.function outside of the loop. For (2), @tf.function has reduce_retracing=True option that can avoid unnecessary retracing. For (3), please refer to https://www.tensorflow.org/guide/function#controlling_retracing and https://www.tensorflow.org/api_docs/python/tf/function for  more details.\n"
          ]
        },
        {
          "output_type": "stream",
          "name": "stdout",
          "text": [
            "1/1 [==============================] - 0s 72ms/step\n"
          ]
        },
        {
          "output_type": "execute_result",
          "data": {
            "text/plain": [
              "array([[-43.87504   ],\n",
              "       [ 52.156467  ],\n",
              "       [ 18.914791  ],\n",
              "       [ 74.31758   ],\n",
              "       [-29.100962  ],\n",
              "       [ 85.39815   ],\n",
              "       [  4.1407146 ],\n",
              "       [  0.44719535],\n",
              "       [ 26.30183   ],\n",
              "       [-21.71392   ]], dtype=float32)"
            ]
          },
          "metadata": {},
          "execution_count": 27
        }
      ]
    },
    {
      "cell_type": "code",
      "source": [
        "model_1.evaluate(X_test, y_test)"
      ],
      "metadata": {
        "colab": {
          "base_uri": "https://localhost:8080/"
        },
        "id": "sRCEeKMMJTtq",
        "outputId": "f6c458e3-57d9-44f7-b1d5-f555108ba473"
      },
      "execution_count": null,
      "outputs": [
        {
          "output_type": "stream",
          "name": "stdout",
          "text": [
            "1/1 [==============================] - 0s 159ms/step - loss: 10.9013 - mae: 10.9013\n"
          ]
        },
        {
          "output_type": "execute_result",
          "data": {
            "text/plain": [
              "[10.90131950378418, 10.90131950378418]"
            ]
          },
          "metadata": {},
          "execution_count": 28
        }
      ]
    },
    {
      "cell_type": "markdown",
      "source": [
        "###Visualizing Our Model's Prediction\n",
        "\n",
        "Tu visualize predictions, it's a good idea to plot them agains the ground truth labels.\n",
        "\n",
        "Often you'll see this in the form of y_test or y_true versus y_pred (ground truth vs your prediction)"
      ],
      "metadata": {
        "id": "9ArbfguTJcY-"
      }
    },
    {
      "cell_type": "code",
      "source": [
        "# Let's create a plotting function\n",
        "\n",
        "def plot_predictions (train_data = X_train,\n",
        "                      train_labels = y_train,\n",
        "                      test_data = X_test,\n",
        "                      test_labels = y_test,\n",
        "                      predictions = y_pred):\n",
        "  plt.figure()\n",
        "  plt.scatter(train_data,train_labels, label = \"Training Data\")\n",
        "  plt.scatter(test_data,test_labels, label = \"Test Data\")\n",
        "  plt.scatter(test_data,predictions, label = \"Predictions\")\n",
        "  plt.legend()"
      ],
      "metadata": {
        "id": "bm5qtYU7Jwuq"
      },
      "execution_count": null,
      "outputs": []
    },
    {
      "cell_type": "code",
      "source": [
        "print(\"SGD MODEL\")\n",
        "plot_predictions(X_train,y_train,X_test,y_test,y_pred)"
      ],
      "metadata": {
        "colab": {
          "base_uri": "https://localhost:8080/",
          "height": 448
        },
        "id": "Tl7JFeK0Laow",
        "outputId": "244df435-d77c-4229-c607-128858c335f4"
      },
      "execution_count": null,
      "outputs": [
        {
          "output_type": "stream",
          "name": "stdout",
          "text": [
            "SGD MODEL\n"
          ]
        },
        {
          "output_type": "display_data",
          "data": {
            "text/plain": [
              "<Figure size 640x480 with 1 Axes>"
            ],
            "image/png": "[encoded data removed]"
          },
          "metadata": {}
        }
      ]
    },
    {
      "cell_type": "markdown",
      "source": [
        "Not That Good"
      ],
      "metadata": {
        "id": "_NmhueAdM-tv"
      }
    },
    {
      "cell_type": "code",
      "source": [
        "print(\"Adam MODEL - MAE\")\n",
        "plot_predictions(X_train,y_train,X_test,y_test,y_pred_1)"
      ],
      "metadata": {
        "colab": {
          "base_uri": "https://localhost:8080/",
          "height": 448
        },
        "id": "hBQztoKXM9Q5",
        "outputId": "09cc5f3c-85e8-406b-ba8e-316ed00c40c6"
      },
      "execution_count": null,
      "outputs": [
        {
          "output_type": "stream",
          "name": "stdout",
          "text": [
            "Adam MODEL - MAE\n"
          ]
        },
        {
          "output_type": "display_data",
          "data": {
            "text/plain": [
              "<Figure size 640x480 with 1 Axes>"
            ],
            "image/png": "[encoded data removed]"
          },
          "metadata": {}
        }
      ]
    },
    {
      "cell_type": "markdown",
      "source": [
        "Pretty Good!!"
      ],
      "metadata": {
        "id": "9ukrYJ1LLlvK"
      }
    },
    {
      "cell_type": "markdown",
      "source": [
        "We can use different **evaluation metrics** as follow:\n",
        "\n",
        "* Mean Absolute Error[MAE] (Great Stater Metric)\n",
        "* Mean Square Error[MSE] (Great for outliers, when larger errors are more significant than smaller errors)\n",
        "* Huber (Combibnation of MAE and MSE, less sensitive eto outlier than MSE)"
      ],
      "metadata": {
        "id": "PsMd20JXMQVT"
      }
    },
    {
      "cell_type": "code",
      "source": [
        "# New model\n",
        "\n",
        "# Set random seed\n",
        "tf.random.set_seed(42)\n",
        "\n",
        "# Create a model (same as above)      # defining the input shape argument, the model builds automatically. We can use model.build() otherwise to build the model.\n",
        "model_2 = tf.keras.Sequential([\n",
        "  tf.keras.layers.Dense(10, input_shape=[1], name = \"Input_Layer\"),     # Dense layer is a fully connected layer.\n",
        "  tf.keras.layers.Dense(1, name = \"Output_Layer\")\n",
        "], name =\"model_2\")\n",
        "\n",
        "# Compile model (same as above)\n",
        "model_2.compile(loss=tf.keras.losses.mse,\n",
        "              optimizer=tf.keras.optimizers.Adam(),\n",
        "              metrics=[\"mse\"])\n",
        "\n",
        "# Fit model\n",
        "model_2.fit(X_train, y_train, epochs=100, verbose = 0)      # Verbose = 0 hides the annoying cell output.\n",
        "y_pred_2 = model_2.predict(X_test)"
      ],
      "metadata": {
        "colab": {
          "base_uri": "https://localhost:8080/"
        },
        "id": "cMoQH8PpOJNF",
        "outputId": "416ada7e-8b10-47ab-9acf-34d96b56f594"
      },
      "execution_count": null,
      "outputs": [
        {
          "output_type": "stream",
          "name": "stdout",
          "text": [
            "1/1 [==============================] - 0s 70ms/step\n"
          ]
        }
      ]
    },
    {
      "cell_type": "code",
      "source": [
        "print(\"Adam MODEL - MSE\")\n",
        "plot_predictions(X_train,y_train,X_test,y_test,y_pred_2)"
      ],
      "metadata": {
        "colab": {
          "base_uri": "https://localhost:8080/",
          "height": 448
        },
        "id": "1LZWLc7CQJkS",
        "outputId": "4463c06c-f59c-4796-be3d-3665e03cc289"
      },
      "execution_count": null,
      "outputs": [
        {
          "output_type": "stream",
          "name": "stdout",
          "text": [
            "Adam MODEL - MSE\n"
          ]
        },
        {
          "output_type": "display_data",
          "data": {
            "text/plain": [
              "<Figure size 640x480 with 1 Axes>"
            ],
            "image/png": "[encoded data removed]"
          },
          "metadata": {}
        }
      ]
    },
    {
      "cell_type": "code",
      "source": [
        "# New model\n",
        "\n",
        "# Set random seed\n",
        "tf.random.set_seed(42)\n",
        "\n",
        "# Create a model (same as above)      # defining the input shape argument, the model builds automatically. We can use model.build() otherwise to build the model.\n",
        "model_3 = tf.keras.Sequential([\n",
        "  tf.keras.layers.Dense(10, input_shape=[1], name = \"Input_Layer\"),     # Dense layer is a fully connected layer.\n",
        "  tf.keras.layers.Dense(1, name = \"Output_Layer\")\n",
        "], name =\"model_3\")\n",
        "\n",
        "# Compile model (same as above)\n",
        "model_3.compile(loss=tf.keras.losses.Huber(),\n",
        "              optimizer=tf.keras.optimizers.Adam(),\n",
        "              metrics=[\"accuracy\"])\n",
        "\n",
        "# Fit model\n",
        "model_3.fit(X_train, y_train, epochs=100, verbose = 0)      # Verbose = 0 hides the annoying cell output.\n",
        "y_pred_3 = model_3.predict(X_test)"
      ],
      "metadata": {
        "colab": {
          "base_uri": "https://localhost:8080/"
        },
        "id": "D7dNy7vQOeuO",
        "outputId": "227b7e01-c938-4916-ec40-ddf008afbcc0"
      },
      "execution_count": null,
      "outputs": [
        {
          "output_type": "stream",
          "name": "stdout",
          "text": [
            "1/1 [==============================] - 0s 60ms/step\n"
          ]
        }
      ]
    },
    {
      "cell_type": "code",
      "source": [
        "print(\"Adam MODEL - Huber\")\n",
        "plot_predictions(X_train,y_train,X_test,y_test,y_pred_3)"
      ],
      "metadata": {
        "colab": {
          "base_uri": "https://localhost:8080/",
          "height": 448
        },
        "id": "HI4BKPXSOnsA",
        "outputId": "7eef6c8d-f438-4a40-cc22-c3ca00b2654f"
      },
      "execution_count": null,
      "outputs": [
        {
          "output_type": "stream",
          "name": "stdout",
          "text": [
            "Adam MODEL - Huber\n"
          ]
        },
        {
          "output_type": "display_data",
          "data": {
            "text/plain": [
              "<Figure size 640x480 with 1 Axes>"
            ],
            "image/png": "[encoded data removed]"
          },
          "metadata": {}
        }
      ]
    },
    {
      "cell_type": "markdown",
      "source": [
        "MSE seems to work the best."
      ],
      "metadata": {
        "id": "w4yZM4ojRZOq"
      }
    },
    {
      "cell_type": "code",
      "source": [
        "# Make some functions to reruse MAE and MSE\n",
        "\n",
        "def mae(y_test, y_pred):\n",
        "  \"\"\"\n",
        "  Calculuates mean absolute error between y_test and y_preds.\n",
        "  \"\"\"\n",
        "  return tf.metrics.mean_absolute_error(y_test,\n",
        "                                        y_pred)\n",
        "\n",
        "def mse(y_test, y_pred):\n",
        "  \"\"\"\n",
        "  Calculates mean squared error between y_test and y_preds.\n",
        "  \"\"\"\n",
        "  return tf.metrics.mean_squared_error(y_test,\n",
        "                                       y_pred)\n",
        ""
      ],
      "metadata": {
        "id": "9USj22OsRkpt"
      },
      "execution_count": null,
      "outputs": []
    },
    {
      "cell_type": "markdown",
      "source": [
        "### To improve the model, we can get more data, modify the structure of the model (maybe use complex structure in the form of more layers, or mor hidden units in the model) or maybe train for longer."
      ],
      "metadata": {
        "id": "Dm-1sM0oR6jT"
      }
    },
    {
      "cell_type": "markdown",
      "source": [
        "##Saving The Model"
      ],
      "metadata": {
        "id": "xzV9tnVASobn"
      }
    },
    {
      "cell_type": "markdown",
      "source": [
        "model_3 is performing best so far\n",
        "\n",
        "let's save it"
      ],
      "metadata": {
        "id": "6B3apBl1Swdc"
      }
    },
    {
      "cell_type": "code",
      "source": [
        "# Save a model using the HDF5 format\n",
        "\n",
        "model_3.save(\"best_model_HDF5_format.h5\") # note the addition of '.h5' on the end\n",
        "\n",
        "# Can also be saved by using the following method\n",
        "# Save a model using the SavedModel format\n",
        "# model_23.save('best_model_SavedModel_format')"
      ],
      "metadata": {
        "id": "sg1WqfPQTQS6"
      },
      "execution_count": null,
      "outputs": []
    },
    {
      "cell_type": "code",
      "source": [
        "# Check it out if it exists\n",
        "!ls best_model_HDF5_format.h5\n",
        "\n",
        "# Or check if you used SaveModel format\n",
        "# !ls best_model_SavedModel_format"
      ],
      "metadata": {
        "colab": {
          "base_uri": "https://localhost:8080/"
        },
        "id": "KqJ1NIKCUEfb",
        "outputId": "b84f0f20-7361-46c0-ea87-c6088579c10a"
      },
      "execution_count": null,
      "outputs": [
        {
          "output_type": "stream",
          "name": "stdout",
          "text": [
            "best_model_HDF5_format.h5\n"
          ]
        }
      ]
    },
    {
      "cell_type": "markdown",
      "source": [
        "##Loading The Model"
      ],
      "metadata": {
        "id": "CjFlKWZgVmH0"
      }
    },
    {
      "cell_type": "code",
      "source": [
        "# Load a model from the HDF5 format\n",
        "loaded_h5_model = tf.keras.models.load_model(\"best_model_HDF5_format.h5\")\n",
        "loaded_h5_model.summary()\n",
        "\n",
        "# Or Load a model from the SavedModel format\n",
        "#loaded_saved_model = tf.keras.models.load_model(\"best_model_SavedModel_format\")\n",
        "# loaded_saved_model.summary()"
      ],
      "metadata": {
        "colab": {
          "base_uri": "https://localhost:8080/"
        },
        "id": "edQfywPGUg6E",
        "outputId": "57a00880-3bbe-4c94-de8f-165ef89d8c31"
      },
      "execution_count": null,
      "outputs": [
        {
          "output_type": "stream",
          "name": "stdout",
          "text": [
            "Model: \"model_3\"\n",
            "_________________________________________________________________\n",
            " Layer (type)                Output Shape              Param #   \n",
            "=================================================================\n",
            " Input_Layer (Dense)         (None, 10)                20        \n",
            "                                                                 \n",
            " Output_Layer (Dense)        (None, 1)                 11        \n",
            "                                                                 \n",
            "=================================================================\n",
            "Total params: 31\n",
            "Trainable params: 31\n",
            "Non-trainable params: 0\n",
            "_________________________________________________________________\n"
          ]
        }
      ]
    },
    {
      "cell_type": "markdown",
      "source": [
        "###You can also download the model from Google Colab using the following method"
      ],
      "metadata": {
        "id": "HM467WyvU6ke"
      }
    },
    {
      "cell_type": "code",
      "source": [
        "# Download the model (or any file) from Google Colab\n",
        "# from google.colab import files\n",
        "# files.download(\"best_model_HDF5_format.h5\")"
      ],
      "metadata": {
        "id": "uLQ67mZzVKVa"
      },
      "execution_count": null,
      "outputs": []
    },
    {
      "cell_type": "markdown",
      "source": [
        "# A LARGER EXAMPLE"
      ],
      "metadata": {
        "id": "aHAYw0EPVMeM"
      }
    },
    {
      "cell_type": "code",
      "source": [
        "# Import required libraries\n",
        "import tensorflow as tf\n",
        "import pandas as pd\n",
        "import numpy as np\n",
        "import matplotlib.pyplot as plt"
      ],
      "metadata": {
        "id": "HQJ9j4PVYzw9"
      },
      "execution_count": null,
      "outputs": []
    },
    {
      "cell_type": "code",
      "source": [
        "# Read in the insurance dataset\n",
        "insurance = pd.read_csv(\"https://raw.githubusercontent.com/stedy/Machine-Learning-with-R-datasets/master/insurance.csv\")"
      ],
      "metadata": {
        "id": "WeUBaBCcY--v"
      },
      "execution_count": null,
      "outputs": []
    },
    {
      "cell_type": "code",
      "source": [
        "insurance.head()"
      ],
      "metadata": {
        "colab": {
          "base_uri": "https://localhost:8080/",
          "height": 206
        },
        "id": "OIBf_iICZIxR",
        "outputId": "8ec170cf-1101-4c34-8fee-d3b4c49a97d3"
      },
      "execution_count": null,
      "outputs": [
        {
          "output_type": "execute_result",
          "data": {
            "text/plain": [
              "   age     sex     bmi  children smoker     region      charges\n",
              "0   19  female  27.900         0    yes  southwest  16884.92400\n",
              "1   18    male  33.770         1     no  southeast   1725.55230\n",
              "2   28    male  33.000         3     no  southeast   4449.46200\n",
              "3   33    male  22.705         0     no  northwest  21984.47061\n",
              "4   32    male  28.880         0     no  northwest   3866.85520"
            ],
            "text/html": [
              "\n",
              "  <div id=\"df-14894ed0-3429-41d8-be04-a8b30267871d\">\n",
              "    <div class=\"colab-df-container\">\n",
              "      <div>\n",
              "<style scoped>\n",
              "    .dataframe tbody tr th:only-of-type {\n",
              "        vertical-align: middle;\n",
              "    }\n",
              "\n",
              "    .dataframe tbody tr th {\n",
              "        vertical-align: top;\n",
              "    }\n",
              "\n",
              "    .dataframe thead th {\n",
              "        text-align: right;\n",
              "    }\n",
              "</style>\n",
              "<table border=\"1\" class=\"dataframe\">\n",
              "  <thead>\n",
              "    <tr style=\"text-align: right;\">\n",
              "      <th></th>\n",
              "      <th>age</th>\n",
              "      <th>sex</th>\n",
              "      <th>bmi</th>\n",
              "      <th>children</th>\n",
              "      <th>smoker</th>\n",
              "      <th>region</th>\n",
              "      <th>charges</th>\n",
              "    </tr>\n",
              "  </thead>\n",
              "  <tbody>\n",
              "    <tr>\n",
              "      <th>0</th>\n",
              "      <td>19</td>\n",
              "      <td>female</td>\n",
              "      <td>27.900</td>\n",
              "      <td>0</td>\n",
              "      <td>yes</td>\n",
              "      <td>southwest</td>\n",
              "      <td>16884.92400</td>\n",
              "    </tr>\n",
              "    <tr>\n",
              "      <th>1</th>\n",
              "      <td>18</td>\n",
              "      <td>male</td>\n",
              "      <td>33.770</td>\n",
              "      <td>1</td>\n",
              "      <td>no</td>\n",
              "      <td>southeast</td>\n",
              "      <td>1725.55230</td>\n",
              "    </tr>\n",
              "    <tr>\n",
              "      <th>2</th>\n",
              "      <td>28</td>\n",
              "      <td>male</td>\n",
              "      <td>33.000</td>\n",
              "      <td>3</td>\n",
              "      <td>no</td>\n",
              "      <td>southeast</td>\n",
              "      <td>4449.46200</td>\n",
              "    </tr>\n",
              "    <tr>\n",
              "      <th>3</th>\n",
              "      <td>33</td>\n",
              "      <td>male</td>\n",
              "      <td>22.705</td>\n",
              "      <td>0</td>\n",
              "      <td>no</td>\n",
              "      <td>northwest</td>\n",
              "      <td>21984.47061</td>\n",
              "    </tr>\n",
              "    <tr>\n",
              "      <th>4</th>\n",
              "      <td>32</td>\n",
              "      <td>male</td>\n",
              "      <td>28.880</td>\n",
              "      <td>0</td>\n",
              "      <td>no</td>\n",
              "      <td>northwest</td>\n",
              "      <td>3866.85520</td>\n",
              "    </tr>\n",
              "  </tbody>\n",
              "</table>\n",
              "</div>\n",
              "      <button class=\"colab-df-convert\" onclick=\"convertToInteractive('df-14894ed0-3429-41d8-be04-a8b30267871d')\"\n",
              "              title=\"Convert this dataframe to an interactive table.\"\n",
              "              style=\"display:none;\">\n",
              "        \n",
              "  <svg xmlns=\"http://www.w3.org/2000/svg\" height=\"24px\"viewBox=\"0 0 24 24\"\n",
              "       width=\"24px\">\n",
              "    <path d=\"M0 0h24v24H0V0z\" fill=\"none\"/>\n",
              "    <path d=\"M18.56 5.44l.94 2.06.94-2.06 2.06-.94-2.06-.94-.94-2.06-.94 2.06-2.06.94zm-11 1L8.5 8.5l.94-2.06 2.06-.94-2.06-.94L8.5 2.5l-.94 2.06-2.06.94zm10 10l.94 2.06.94-2.06 2.06-.94-2.06-.94-.94-2.06-.94 2.06-2.06.94z\"/><path d=\"M17.41 7.96l-1.37-1.37c-.4-.4-.92-.59-1.43-.59-.52 0-1.04.2-1.43.59L10.3 9.45l-7.72 7.72c-.78.78-.78 2.05 0 2.83L4 21.41c.39.39.9.59 1.41.59.51 0 1.02-.2 1.41-.59l7.78-7.78 2.81-2.81c.8-.78.8-2.07 0-2.86zM5.41 20L4 18.59l7.72-7.72 1.47 1.35L5.41 20z\"/>\n",
              "  </svg>\n",
              "      </button>\n",
              "      \n",
              "  <style>\n",
              "    .colab-df-container {\n",
              "      display:flex;\n",
              "      flex-wrap:wrap;\n",
              "      gap: 12px;\n",
              "    }\n",
              "\n",
              "    .colab-df-convert {\n",
              "      background-color: #E8F0FE;\n",
              "      border: none;\n",
              "      border-radius: 50%;\n",
              "      cursor: pointer;\n",
              "      display: none;\n",
              "      fill: #1967D2;\n",
              "      height: 32px;\n",
              "      padding: 0 0 0 0;\n",
              "      width: 32px;\n",
              "    }\n",
              "\n",
              "    .colab-df-convert:hover {\n",
              "      background-color: #E2EBFA;\n",
              "      box-shadow: 0px 1px 2px rgba(60, 64, 67, 0.3), 0px 1px 3px 1px rgba(60, 64, 67, 0.15);\n",
              "      fill: #174EA6;\n",
              "    }\n",
              "\n",
              "    [theme=dark] .colab-df-convert {\n",
              "      background-color: #3B4455;\n",
              "      fill: #D2E3FC;\n",
              "    }\n",
              "\n",
              "    [theme=dark] .colab-df-convert:hover {\n",
              "      background-color: #434B5C;\n",
              "      box-shadow: 0px 1px 3px 1px rgba(0, 0, 0, 0.15);\n",
              "      filter: drop-shadow(0px 1px 2px rgba(0, 0, 0, 0.3));\n",
              "      fill: #FFFFFF;\n",
              "    }\n",
              "  </style>\n",
              "\n",
              "      <script>\n",
              "        const buttonEl =\n",
              "          document.querySelector('#df-14894ed0-3429-41d8-be04-a8b30267871d button.colab-df-convert');\n",
              "        buttonEl.style.display =\n",
              "          google.colab.kernel.accessAllowed ? 'block' : 'none';\n",
              "\n",
              "        async function convertToInteractive(key) {\n",
              "          const element = document.querySelector('#df-14894ed0-3429-41d8-be04-a8b30267871d');\n",
              "          const dataTable =\n",
              "            await google.colab.kernel.invokeFunction('convertToInteractive',\n",
              "                                                     [key], {});\n",
              "          if (!dataTable) return;\n",
              "\n",
              "          const docLinkHtml = 'Like what you see? Visit the ' +\n",
              "            '<a target=\"_blank\" href=https://colab.research.google.com/notebooks/data_table.ipynb>data table notebook</a>'\n",
              "            + ' to learn more about interactive tables.';\n",
              "          element.innerHTML = '';\n",
              "          dataTable['output_type'] = 'display_data';\n",
              "          await google.colab.output.renderOutput(dataTable, element);\n",
              "          const docLink = document.createElement('div');\n",
              "          docLink.innerHTML = docLinkHtml;\n",
              "          element.appendChild(docLink);\n",
              "        }\n",
              "      </script>\n",
              "    </div>\n",
              "  </div>\n",
              "  "
            ]
          },
          "metadata": {},
          "execution_count": 43
        }
      ]
    },
    {
      "cell_type": "code",
      "source": [
        "insurance.describe()"
      ],
      "metadata": {
        "colab": {
          "base_uri": "https://localhost:8080/",
          "height": 300
        },
        "id": "Pp9r9LRDZLdH",
        "outputId": "8577467c-dda6-4df4-d4b7-83e13620e51a"
      },
      "execution_count": null,
      "outputs": [
        {
          "output_type": "execute_result",
          "data": {
            "text/plain": [
              "               age          bmi     children       charges\n",
              "count  1338.000000  1338.000000  1338.000000   1338.000000\n",
              "mean     39.207025    30.663397     1.094918  13270.422265\n",
              "std      14.049960     6.098187     1.205493  12110.011237\n",
              "min      18.000000    15.960000     0.000000   1121.873900\n",
              "25%      27.000000    26.296250     0.000000   4740.287150\n",
              "50%      39.000000    30.400000     1.000000   9382.033000\n",
              "75%      51.000000    34.693750     2.000000  16639.912515\n",
              "max      64.000000    53.130000     5.000000  63770.428010"
            ],
            "text/html": [
              "\n",
              "  <div id=\"df-9f6c5f2e-7ff5-4479-bc54-ec2abd2a4fd0\">\n",
              "    <div class=\"colab-df-container\">\n",
              "      <div>\n",
              "<style scoped>\n",
              "    .dataframe tbody tr th:only-of-type {\n",
              "        vertical-align: middle;\n",
              "    }\n",
              "\n",
              "    .dataframe tbody tr th {\n",
              "        vertical-align: top;\n",
              "    }\n",
              "\n",
              "    .dataframe thead th {\n",
              "        text-align: right;\n",
              "    }\n",
              "</style>\n",
              "<table border=\"1\" class=\"dataframe\">\n",
              "  <thead>\n",
              "    <tr style=\"text-align: right;\">\n",
              "      <th></th>\n",
              "      <th>age</th>\n",
              "      <th>bmi</th>\n",
              "      <th>children</th>\n",
              "      <th>charges</th>\n",
              "    </tr>\n",
              "  </thead>\n",
              "  <tbody>\n",
              "    <tr>\n",
              "      <th>count</th>\n",
              "      <td>1338.000000</td>\n",
              "      <td>1338.000000</td>\n",
              "      <td>1338.000000</td>\n",
              "      <td>1338.000000</td>\n",
              "    </tr>\n",
              "    <tr>\n",
              "      <th>mean</th>\n",
              "      <td>39.207025</td>\n",
              "      <td>30.663397</td>\n",
              "      <td>1.094918</td>\n",
              "      <td>13270.422265</td>\n",
              "    </tr>\n",
              "    <tr>\n",
              "      <th>std</th>\n",
              "      <td>14.049960</td>\n",
              "      <td>6.098187</td>\n",
              "      <td>1.205493</td>\n",
              "      <td>12110.011237</td>\n",
              "    </tr>\n",
              "    <tr>\n",
              "      <th>min</th>\n",
              "      <td>18.000000</td>\n",
              "      <td>15.960000</td>\n",
              "      <td>0.000000</td>\n",
              "      <td>1121.873900</td>\n",
              "    </tr>\n",
              "    <tr>\n",
              "      <th>25%</th>\n",
              "      <td>27.000000</td>\n",
              "      <td>26.296250</td>\n",
              "      <td>0.000000</td>\n",
              "      <td>4740.287150</td>\n",
              "    </tr>\n",
              "    <tr>\n",
              "      <th>50%</th>\n",
              "      <td>39.000000</td>\n",
              "      <td>30.400000</td>\n",
              "      <td>1.000000</td>\n",
              "      <td>9382.033000</td>\n",
              "    </tr>\n",
              "    <tr>\n",
              "      <th>75%</th>\n",
              "      <td>51.000000</td>\n",
              "      <td>34.693750</td>\n",
              "      <td>2.000000</td>\n",
              "      <td>16639.912515</td>\n",
              "    </tr>\n",
              "    <tr>\n",
              "      <th>max</th>\n",
              "      <td>64.000000</td>\n",
              "      <td>53.130000</td>\n",
              "      <td>5.000000</td>\n",
              "      <td>63770.428010</td>\n",
              "    </tr>\n",
              "  </tbody>\n",
              "</table>\n",
              "</div>\n",
              "      <button class=\"colab-df-convert\" onclick=\"convertToInteractive('df-9f6c5f2e-7ff5-4479-bc54-ec2abd2a4fd0')\"\n",
              "              title=\"Convert this dataframe to an interactive table.\"\n",
              "              style=\"display:none;\">\n",
              "        \n",
              "  <svg xmlns=\"http://www.w3.org/2000/svg\" height=\"24px\"viewBox=\"0 0 24 24\"\n",
              "       width=\"24px\">\n",
              "    <path d=\"M0 0h24v24H0V0z\" fill=\"none\"/>\n",
              "    <path d=\"M18.56 5.44l.94 2.06.94-2.06 2.06-.94-2.06-.94-.94-2.06-.94 2.06-2.06.94zm-11 1L8.5 8.5l.94-2.06 2.06-.94-2.06-.94L8.5 2.5l-.94 2.06-2.06.94zm10 10l.94 2.06.94-2.06 2.06-.94-2.06-.94-.94-2.06-.94 2.06-2.06.94z\"/><path d=\"M17.41 7.96l-1.37-1.37c-.4-.4-.92-.59-1.43-.59-.52 0-1.04.2-1.43.59L10.3 9.45l-7.72 7.72c-.78.78-.78 2.05 0 2.83L4 21.41c.39.39.9.59 1.41.59.51 0 1.02-.2 1.41-.59l7.78-7.78 2.81-2.81c.8-.78.8-2.07 0-2.86zM5.41 20L4 18.59l7.72-7.72 1.47 1.35L5.41 20z\"/>\n",
              "  </svg>\n",
              "      </button>\n",
              "      \n",
              "  <style>\n",
              "    .colab-df-container {\n",
              "      display:flex;\n",
              "      flex-wrap:wrap;\n",
              "      gap: 12px;\n",
              "    }\n",
              "\n",
              "    .colab-df-convert {\n",
              "      background-color: #E8F0FE;\n",
              "      border: none;\n",
              "      border-radius: 50%;\n",
              "      cursor: pointer;\n",
              "      display: none;\n",
              "      fill: #1967D2;\n",
              "      height: 32px;\n",
              "      padding: 0 0 0 0;\n",
              "      width: 32px;\n",
              "    }\n",
              "\n",
              "    .colab-df-convert:hover {\n",
              "      background-color: #E2EBFA;\n",
              "      box-shadow: 0px 1px 2px rgba(60, 64, 67, 0.3), 0px 1px 3px 1px rgba(60, 64, 67, 0.15);\n",
              "      fill: #174EA6;\n",
              "    }\n",
              "\n",
              "    [theme=dark] .colab-df-convert {\n",
              "      background-color: #3B4455;\n",
              "      fill: #D2E3FC;\n",
              "    }\n",
              "\n",
              "    [theme=dark] .colab-df-convert:hover {\n",
              "      background-color: #434B5C;\n",
              "      box-shadow: 0px 1px 3px 1px rgba(0, 0, 0, 0.15);\n",
              "      filter: drop-shadow(0px 1px 2px rgba(0, 0, 0, 0.3));\n",
              "      fill: #FFFFFF;\n",
              "    }\n",
              "  </style>\n",
              "\n",
              "      <script>\n",
              "        const buttonEl =\n",
              "          document.querySelector('#df-9f6c5f2e-7ff5-4479-bc54-ec2abd2a4fd0 button.colab-df-convert');\n",
              "        buttonEl.style.display =\n",
              "          google.colab.kernel.accessAllowed ? 'block' : 'none';\n",
              "\n",
              "        async function convertToInteractive(key) {\n",
              "          const element = document.querySelector('#df-9f6c5f2e-7ff5-4479-bc54-ec2abd2a4fd0');\n",
              "          const dataTable =\n",
              "            await google.colab.kernel.invokeFunction('convertToInteractive',\n",
              "                                                     [key], {});\n",
              "          if (!dataTable) return;\n",
              "\n",
              "          const docLinkHtml = 'Like what you see? Visit the ' +\n",
              "            '<a target=\"_blank\" href=https://colab.research.google.com/notebooks/data_table.ipynb>data table notebook</a>'\n",
              "            + ' to learn more about interactive tables.';\n",
              "          element.innerHTML = '';\n",
              "          dataTable['output_type'] = 'display_data';\n",
              "          await google.colab.output.renderOutput(dataTable, element);\n",
              "          const docLink = document.createElement('div');\n",
              "          docLink.innerHTML = docLinkHtml;\n",
              "          element.appendChild(docLink);\n",
              "        }\n",
              "      </script>\n",
              "    </div>\n",
              "  </div>\n",
              "  "
            ]
          },
          "metadata": {},
          "execution_count": 44
        }
      ]
    },
    {
      "cell_type": "code",
      "source": [
        "insurance.dtypes"
      ],
      "metadata": {
        "colab": {
          "base_uri": "https://localhost:8080/"
        },
        "id": "FlI-F5FUZU3C",
        "outputId": "94977a8d-5e6d-4939-8cd6-864e20a070b0"
      },
      "execution_count": null,
      "outputs": [
        {
          "output_type": "execute_result",
          "data": {
            "text/plain": [
              "age           int64\n",
              "sex          object\n",
              "bmi         float64\n",
              "children      int64\n",
              "smoker       object\n",
              "region       object\n",
              "charges     float64\n",
              "dtype: object"
            ]
          },
          "metadata": {},
          "execution_count": 45
        }
      ]
    },
    {
      "cell_type": "code",
      "source": [
        "# categorical to numerical\n",
        "# One-hot encoding\n",
        "\n",
        "insurance_one_hot = pd.get_dummies(insurance)"
      ],
      "metadata": {
        "id": "i2FjjZI0ZdHG"
      },
      "execution_count": null,
      "outputs": []
    },
    {
      "cell_type": "code",
      "source": [
        "# Create X & y values\n",
        "X = insurance_one_hot.drop(\"charges\", axis=1)\n",
        "y = insurance_one_hot[\"charges\"]"
      ],
      "metadata": {
        "id": "avt5J7JdaOJa"
      },
      "execution_count": null,
      "outputs": []
    },
    {
      "cell_type": "code",
      "source": [
        "# Create training and test sets\n",
        "from sklearn.model_selection import train_test_split\n",
        "X_train, X_test, y_train, y_test = train_test_split(X,\n",
        "                                                    y,\n",
        "                                                    test_size=0.2,\n",
        "                                                    random_state=42) # set random state for reproducible splits"
      ],
      "metadata": {
        "id": "oUb5ZYTqaTyN"
      },
      "execution_count": null,
      "outputs": []
    },
    {
      "cell_type": "markdown",
      "source": [
        "###Building a model"
      ],
      "metadata": {
        "id": "YLCNNAIhacJZ"
      }
    },
    {
      "cell_type": "code",
      "source": [
        "# New model\n",
        "\n",
        "# Set random seed\n",
        "tf.random.set_seed(42)\n",
        "\n",
        "# Create a model (same as above)      # defining the input shape argument, the model builds automatically. We can use model.build() otherwise to build the model.\n",
        "model_insurance = tf.keras.Sequential([\n",
        "  tf.keras.layers.Dense(10, name = \"Input_Layer\"),     # Dense layer is a fully connected layer.\n",
        "  tf.keras.layers.Dense(1, name = \"Output_Layer\")\n",
        "], name =\"model_insurance\")\n",
        "\n",
        "# Compile model (same as above)\n",
        "model_insurance.compile(loss=tf.keras.losses.mae,\n",
        "              optimizer=tf.keras.optimizers.Adam(),\n",
        "              metrics=[\"mae\"])\n",
        "\n",
        "# Fit model\n",
        "history = model_insurance.fit(X_train, y_train, epochs=100, verbose = 0)      # Verbose = 0 hides the annoying cell output.\n",
        "y_pred_insurance = model_insurance.predict(X_test)"
      ],
      "metadata": {
        "colab": {
          "base_uri": "https://localhost:8080/"
        },
        "id": "qK66Sc4PapPm",
        "outputId": "de6fee02-2fdf-4225-ce47-b8a26f7f9239"
      },
      "execution_count": null,
      "outputs": [
        {
          "output_type": "stream",
          "name": "stdout",
          "text": [
            "9/9 [==============================] - 0s 2ms/step\n"
          ]
        }
      ]
    },
    {
      "cell_type": "code",
      "source": [
        "# Plot history (also known as a loss curve)\n",
        "pd.DataFrame(history.history).plot()\n",
        "plt.ylabel(\"loss\")\n",
        "plt.xlabel(\"epochs\");"
      ],
      "metadata": {
        "colab": {
          "base_uri": "https://localhost:8080/",
          "height": 449
        },
        "id": "O0s-T0sbi1Sc",
        "outputId": "a552692a-3604-49cb-8483-4c1730c152ef"
      },
      "execution_count": null,
      "outputs": [
        {
          "output_type": "display_data",
          "data": {
            "text/plain": [
              "<Figure size 640x480 with 1 Axes>"
            ],
            "image/png": "[encoded data removed]"
          },
          "metadata": {}
        }
      ]
    },
    {
      "cell_type": "code",
      "source": [
        "# Check the results of the insurance model\n",
        "model_insurance.evaluate(X_test, y_test)"
      ],
      "metadata": {
        "colab": {
          "base_uri": "https://localhost:8080/"
        },
        "id": "J0NIhhNaa42D",
        "outputId": "36bfb855-d4f6-40e4-d55e-5bdbc003f068"
      },
      "execution_count": null,
      "outputs": [
        {
          "output_type": "stream",
          "name": "stdout",
          "text": [
            "9/9 [==============================] - 0s 2ms/step - loss: 7559.6094 - mae: 7559.6094\n"
          ]
        },
        {
          "output_type": "execute_result",
          "data": {
            "text/plain": [
              "[7559.609375, 7559.609375]"
            ]
          },
          "metadata": {},
          "execution_count": 51
        }
      ]
    },
    {
      "cell_type": "markdown",
      "source": [
        "Welp, it did not perfom good.\n",
        "\n",
        "Let's try something else."
      ],
      "metadata": {
        "id": "2g0ZIFcQdl0C"
      }
    },
    {
      "cell_type": "markdown",
      "source": [
        "####Improving the model\n",
        "\n",
        "We can try\n",
        "\n",
        "* Adding extra layers.\n",
        "* Training for longer.\n",
        "* Changing the optimizer (from SGD to Adam)."
      ],
      "metadata": {
        "id": "w_9ZtZnWfYnT"
      }
    },
    {
      "cell_type": "code",
      "source": [
        "# New model\n",
        "\n",
        "# Set random seed\n",
        "tf.random.set_seed(42)\n",
        "\n",
        "# Create a model (same as above)      # defining the input shape argument, the model builds automatically. We can use model.build() otherwise to build the model.\n",
        "model_insurance_2 = tf.keras.Sequential([\n",
        "  tf.keras.layers.Dense(100, name = \"Input_Layer\"),     # Dense layer is a fully connected layer.\n",
        "  tf.keras.layers.Dense(10, name = \"Middle_Layer\"),\n",
        "  tf.keras.layers.Dense(1, name = \"Output_Layer\")\n",
        "], name =\"model_insurance_2\")\n",
        "\n",
        "# Compile model (same as above)\n",
        "model_insurance_2.compile(loss=tf.keras.losses.mae,\n",
        "              optimizer=tf.keras.optimizers.Adam(),\n",
        "              metrics=[\"mae\"])\n",
        "\n",
        "# Fit model\n",
        "history = model_insurance_2.fit(X_train, y_train, epochs=100, verbose = 0)      # Verbose = 0 hides the annoying cell output.\n",
        "y_pred_insurance_2 = model_insurance_2.predict(X_test)\n",
        "# Check the results of the insurance model\n",
        "model_insurance_2.evaluate(X_test, y_test)"
      ],
      "metadata": {
        "colab": {
          "base_uri": "https://localhost:8080/"
        },
        "id": "P1FXIMMJgnhr",
        "outputId": "caf8c289-43ae-4734-a3e0-72c616e1558f"
      },
      "execution_count": null,
      "outputs": [
        {
          "output_type": "stream",
          "name": "stdout",
          "text": [
            "9/9 [==============================] - 0s 3ms/step\n",
            "9/9 [==============================] - 0s 3ms/step - loss: 4943.9609 - mae: 4943.9609\n"
          ]
        },
        {
          "output_type": "execute_result",
          "data": {
            "text/plain": [
              "[4943.9609375, 4943.9609375]"
            ]
          },
          "metadata": {},
          "execution_count": 52
        }
      ]
    },
    {
      "cell_type": "code",
      "source": [
        "# Plot history (also known as a loss curve)\n",
        "pd.DataFrame(history.history).plot()\n",
        "plt.ylabel(\"loss\")\n",
        "plt.xlabel(\"epochs\");"
      ],
      "metadata": {
        "colab": {
          "base_uri": "https://localhost:8080/",
          "height": 449
        },
        "id": "Fwq0VoOhih6r",
        "outputId": "9679f317-eb62-4cf4-b70a-b34d2336e15e"
      },
      "execution_count": null,
      "outputs": [
        {
          "output_type": "display_data",
          "data": {
            "text/plain": [
              "<Figure size 640x480 with 1 Axes>"
            ],
            "image/png": "[encoded data removed]"
          },
          "metadata": {}
        }
      ]
    },
    {
      "cell_type": "code",
      "source": [
        "# New model\n",
        "\n",
        "# Set random seed\n",
        "tf.random.set_seed(42)\n",
        "\n",
        "# Create a model (same as above)      # defining the input shape argument, the model builds automatically. We can use model.build() otherwise to build the model.\n",
        "model_insurance_3 = tf.keras.Sequential([\n",
        "  tf.keras.layers.Dense(100, name = \"Input_Layer\"),     # Dense layer is a fully connected layer.\n",
        "  tf.keras.layers.Dense(10, name = \"Middle_Layer\"),\n",
        "  tf.keras.layers.Dense(1, name = \"Output_Layer\")\n",
        "], name =\"model_insurance_3\")\n",
        "\n",
        "# Compile model (same as above)\n",
        "model_insurance_3.compile(loss=tf.keras.losses.mae,\n",
        "              optimizer=tf.keras.optimizers.Adam(),\n",
        "              metrics=[\"mae\"])\n",
        "\n",
        "# Fit model\n",
        "history = model_insurance_3.fit(X_train, y_train, epochs=250, verbose = 0)      # Verbose = 0 hides the annoying cell output.\n",
        "y_pred_insurance_3 = model_insurance_3.predict(X_test)\n",
        "# Check the results of the insurance model\n",
        "model_insurance_3.evaluate(X_test, y_test)"
      ],
      "metadata": {
        "colab": {
          "base_uri": "https://localhost:8080/"
        },
        "id": "Udiqtwg_hQbJ",
        "outputId": "88bd51b1-312f-48d2-f43c-eb741a594085"
      },
      "execution_count": null,
      "outputs": [
        {
          "output_type": "stream",
          "name": "stdout",
          "text": [
            "9/9 [==============================] - 0s 2ms/step\n",
            "9/9 [==============================] - 0s 2ms/step - loss: 3342.5757 - mae: 3342.5757\n"
          ]
        },
        {
          "output_type": "execute_result",
          "data": {
            "text/plain": [
              "[3342.57568359375, 3342.57568359375]"
            ]
          },
          "metadata": {},
          "execution_count": 54
        }
      ]
    },
    {
      "cell_type": "code",
      "source": [
        "# Plot history (also known as a loss curve)\n",
        "pd.DataFrame(history.history).plot()\n",
        "plt.ylabel(\"loss\")\n",
        "plt.xlabel(\"epochs\");"
      ],
      "metadata": {
        "colab": {
          "base_uri": "https://localhost:8080/",
          "height": 449
        },
        "id": "1D4emab0hsHu",
        "outputId": "851cd116-eb9e-4265-9d29-6cc5e17a3ab9"
      },
      "execution_count": null,
      "outputs": [
        {
          "output_type": "display_data",
          "data": {
            "text/plain": [
              "<Figure size 640x480 with 1 Axes>"
            ],
            "image/png": "[encoded data removed]"
          },
          "metadata": {}
        }
      ]
    },
    {
      "cell_type": "markdown",
      "source": [
        "This seems the better one among all the models we've built for this example."
      ],
      "metadata": {
        "id": "gSW57pUAjbU-"
      }
    },
    {
      "cell_type": "markdown",
      "source": [
        "We can use **Early Stopping Callback** to early stop if the model doesn't improve significantly and we don't want to train it any further then."
      ],
      "metadata": {
        "id": "rp9YjqDwiuRq"
      }
    },
    {
      "cell_type": "markdown",
      "source": [
        "###Preprocessing Data"
      ],
      "metadata": {
        "id": "io6fL9HPjO9h"
      }
    },
    {
      "cell_type": "markdown",
      "source": [
        "A common practice when working with neural networks is to make sure all of the data you pass to them is in the range 0 to 1.\n",
        "\n",
        "This practice is called normalization (scaling all values from their original range to, e.g. between 0 and 100,000 to be between 0 and 1).\n",
        "\n",
        "There is another process call standardization which converts all of your data to unit variance and 0 mean.\n",
        "\n",
        "These two practices are often part of a preprocessing pipeline (a series of functions to prepare your data for use with neural networks).\n",
        "\n",
        "Knowing this, some of the major steps you'll take to preprocess your data for a neural network include:\n",
        "\n",
        "* Turning all of your data to numbers (a neural network can't handle strings).\n",
        "* Making sure your data is in the right shape (verifying input and output shapes).\n",
        "* Feature scaling:\n",
        "  * Normalizing data (making sure all values are between 0 and 1). This is done by subtracting the minimum value then dividing by the maximum value minus the minmum. This is also referred to as min-max scaling.\n",
        "  * Standardization (making sure all values have a mean of 0 and a variance of 1). This is done by substracting the mean value from the target feature and then dividing it by the standard deviation.\n",
        "\n",
        "\n",
        "Which one should you use?\n",
        "\n",
        "* With neural networks you'll tend to favour normalization as they tend to prefer values between 0 and 1 (you'll see this espcially with image processing), however, you'll often find a neural network can perform pretty well with minimal feature scaling."
      ],
      "metadata": {
        "id": "yPhMeYOFjqVu"
      }
    },
    {
      "cell_type": "code",
      "source": [
        "import pandas as pd\n",
        "import matplotlib.pyplot as plt\n",
        "import tensorflow as tf\n",
        "\n",
        "# Read in the insurance dataset\n",
        "insurance = pd.read_csv(\"https://raw.githubusercontent.com/stedy/Machine-Learning-with-R-datasets/master/insurance.csv\")"
      ],
      "metadata": {
        "id": "8LjMDEvpjq_-"
      },
      "execution_count": null,
      "outputs": []
    },
    {
      "cell_type": "code",
      "source": [
        "from sklearn.compose import make_column_transformer\n",
        "from sklearn.preprocessing import MinMaxScaler, OneHotEncoder\n",
        "\n",
        "# Create column transformer (this will help us normalize/preprocess our data)\n",
        "ct = make_column_transformer(\n",
        "    (MinMaxScaler(), [\"age\", \"bmi\", \"children\"]), # get all values between 0 and 1\n",
        "    (OneHotEncoder(handle_unknown=\"ignore\"), [\"sex\", \"smoker\", \"region\"])\n",
        ")\n",
        "\n",
        "# Create X & y\n",
        "X = insurance.drop(\"charges\", axis=1)\n",
        "y = insurance[\"charges\"]\n",
        "\n",
        "# Build our train and test sets (use random state to ensure same split as before)\n",
        "X_train, X_test, y_train, y_test = train_test_split(X, y, test_size=0.2, random_state=42)\n",
        "\n",
        "# Fit column transformer on the training data only (doing so on test data would result in data leakage)\n",
        "ct.fit(X_train)\n",
        "\n",
        "# Transform training and test data with normalization (MinMaxScalar) and one hot encoding (OneHotEncoder)\n",
        "X_train_normal = ct.transform(X_train)\n",
        "X_test_normal = ct.transform(X_test)"
      ],
      "metadata": {
        "id": "eAbFbuXskgX8"
      },
      "execution_count": null,
      "outputs": []
    },
    {
      "cell_type": "code",
      "source": [
        "# New model\n",
        "\n",
        "# Set random seed\n",
        "tf.random.set_seed(42)\n",
        "\n",
        "# Create a model (same as above)      # defining the input shape argument, the model builds automatically. We can use model.build() otherwise to build the model.\n",
        "model_insurance_4 = tf.keras.Sequential([\n",
        "  tf.keras.layers.Dense(100, name = \"Input_Layer\"),     # Dense layer is a fully connected layer.\n",
        "  tf.keras.layers.Dense(10, name = \"Middle_Layer\"),\n",
        "  tf.keras.layers.Dense(1, name = \"Output_Layer\")\n",
        "], name =\"model_insurance_4\")\n",
        "\n",
        "# Compile model (same as above)\n",
        "model_insurance_4.compile(loss=tf.keras.losses.mae,\n",
        "              optimizer=tf.keras.optimizers.Adam(),\n",
        "              metrics=[\"mae\"])\n",
        "\n",
        "# Fit model\n",
        "history = model_insurance_4.fit(X_train_normal, y_train, epochs=250, verbose = 0)      # Verbose = 0 hides the annoying cell output.\n",
        "y_pred_insurance_4 = model_insurance_4.predict(X_test_normal)\n",
        "# Check the results of the insurance model\n",
        "model_insurance_4.evaluate(X_test_normal, y_test)"
      ],
      "metadata": {
        "colab": {
          "base_uri": "https://localhost:8080/"
        },
        "id": "zz4QlrflkzUc",
        "outputId": "990bf360-4c3c-4b93-edf6-d01b24fdd34a"
      },
      "execution_count": null,
      "outputs": [
        {
          "output_type": "stream",
          "name": "stdout",
          "text": [
            "9/9 [==============================] - 0s 2ms/step\n",
            "9/9 [==============================] - 0s 2ms/step - loss: 3159.1824 - mae: 3159.1824\n"
          ]
        },
        {
          "output_type": "execute_result",
          "data": {
            "text/plain": [
              "[3159.182373046875, 3159.182373046875]"
            ]
          },
          "metadata": {},
          "execution_count": 58
        }
      ]
    },
    {
      "cell_type": "code",
      "source": [
        "# Plot history (also known as a loss curve)\n",
        "pd.DataFrame(history.history).plot()\n",
        "plt.ylabel(\"loss\")\n",
        "plt.xlabel(\"epochs\");"
      ],
      "metadata": {
        "colab": {
          "base_uri": "https://localhost:8080/",
          "height": 449
        },
        "id": "UPWGDIpolRZS",
        "outputId": "f8a52966-04b7-4def-b71a-d6f8849b4637"
      },
      "execution_count": null,
      "outputs": [
        {
          "output_type": "display_data",
          "data": {
            "text/plain": [
              "<Figure size 640x480 with 1 Axes>"
            ],
            "image/png": "[encoded data removed]"
          },
          "metadata": {}
        }
      ]
    },
    {
      "cell_type": "markdown",
      "source": [
        "This is our **Best Result**."
      ],
      "metadata": {
        "id": "ljm98Si8mLoz"
      }
    }
  ]
}